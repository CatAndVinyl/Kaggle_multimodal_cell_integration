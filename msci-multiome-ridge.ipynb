{
 "cells": [
  {
   "cell_type": "code",
   "execution_count": 1,
   "id": "c62bbe68",
   "metadata": {
    "_kg_hide-input": true,
    "execution": {
     "iopub.execute_input": "2022-09-13T23:24:11.103397Z",
     "iopub.status.busy": "2022-09-13T23:24:11.102101Z",
     "iopub.status.idle": "2022-09-13T23:24:12.445218Z",
     "shell.execute_reply": "2022-09-13T23:24:12.444080Z"
    },
    "papermill": {
     "duration": 1.358657,
     "end_time": "2022-09-13T23:24:12.448407",
     "exception": false,
     "start_time": "2022-09-13T23:24:11.089750",
     "status": "completed"
    },
    "tags": []
   },
   "outputs": [],
   "source": [
    "import os, gc, pickle\n",
    "import pandas as pd\n",
    "import matplotlib.pyplot as plt\n",
    "import numpy as np\n",
    "from colorama import Fore, Back, Style\n",
    "from matplotlib.ticker import MaxNLocator\n",
    "\n",
    "from sklearn.base import BaseEstimator, TransformerMixin\n",
    "from sklearn.model_selection import KFold\n",
    "from sklearn.preprocessing import StandardScaler, scale\n",
    "from sklearn.decomposition import PCA, TruncatedSVD\n",
    "from sklearn.dummy import DummyRegressor\n",
    "from sklearn.pipeline import make_pipeline, Pipeline\n",
    "from sklearn.linear_model import Ridge, LinearRegression, Lasso\n",
    "from sklearn.metrics import mean_squared_error\n",
    "\n",
    "import scipy\n",
    "import scipy.sparse\n",
    "\n",
    "import gc\n",
    "import pickle\n",
    "import warnings\n",
    "warnings.filterwarnings('ignore')"
   ]
  },
  {
   "cell_type": "code",
   "execution_count": 2,
   "id": "bd2fc9bd",
   "metadata": {
    "execution": {
     "iopub.execute_input": "2022-09-13T23:24:12.468848Z",
     "iopub.status.busy": "2022-09-13T23:24:12.468143Z",
     "iopub.status.idle": "2022-09-13T23:24:12.475696Z",
     "shell.execute_reply": "2022-09-13T23:24:12.474485Z"
    },
    "papermill": {
     "duration": 0.020095,
     "end_time": "2022-09-13T23:24:12.477969",
     "exception": false,
     "start_time": "2022-09-13T23:24:12.457874",
     "status": "completed"
    },
    "tags": []
   },
   "outputs": [],
   "source": [
    "def correlation_score(y_true, y_pred):\n",
    "    \"\"\"Scores the predictions according to the competition rules. \n",
    "    \n",
    "    It is assumed that the predictions are not constant.\n",
    "    \n",
    "    Returns the average of each sample's Pearson correlation coefficient\"\"\"\n",
    "    if type(y_true) == pd.DataFrame: y_true = y_true.values\n",
    "    if type(y_pred) == pd.DataFrame: y_pred = y_pred.values\n",
    "    if y_true.shape != y_pred.shape: raise ValueError(\"Shapes are different.\")\n",
    "    corrsum = 0\n",
    "    for i in range(len(y_true)):\n",
    "        corrsum += np.corrcoef(y_true[i], y_pred[i])[1, 0]\n",
    "    return corrsum / len(y_true)\n"
   ]
  },
  {
   "cell_type": "markdown",
   "id": "537d8cdb",
   "metadata": {
    "papermill": {
     "duration": 0.008543,
     "end_time": "2022-09-13T23:24:12.495383",
     "exception": false,
     "start_time": "2022-09-13T23:24:12.486840",
     "status": "completed"
    },
    "tags": []
   },
   "source": [
    "# Preprocessing and cross-validation\n",
    "\n",
    "We first load all of the training input data for Multiome. It should take less than a minute."
   ]
  },
  {
   "cell_type": "code",
   "execution_count": 3,
   "id": "d78b0afa",
   "metadata": {
    "execution": {
     "iopub.execute_input": "2022-09-13T23:24:12.515448Z",
     "iopub.status.busy": "2022-09-13T23:24:12.514703Z",
     "iopub.status.idle": "2022-09-13T23:25:13.810243Z",
     "shell.execute_reply": "2022-09-13T23:25:13.807633Z"
    },
    "papermill": {
     "duration": 61.316579,
     "end_time": "2022-09-13T23:25:13.820800",
     "exception": false,
     "start_time": "2022-09-13T23:24:12.504221",
     "status": "completed"
    },
    "tags": []
   },
   "outputs": [
    {
     "name": "stdout",
     "output_type": "stream",
     "text": [
      "CPU times: user 35.8 s, sys: 3.35 s, total: 39.1 s\n",
      "Wall time: 1min 1s\n"
     ]
    }
   ],
   "source": [
    "%%time\n",
    "train_inputs = scipy.sparse.load_npz(\"../input/multimodal-single-cell-as-sparse-matrix/train_multi_inputs_values.sparse.npz\")"
   ]
  },
  {
   "cell_type": "code",
   "execution_count": 4,
   "id": "702782d6",
   "metadata": {
    "execution": {
     "iopub.execute_input": "2022-09-13T23:25:13.840687Z",
     "iopub.status.busy": "2022-09-13T23:25:13.840254Z",
     "iopub.status.idle": "2022-09-13T23:25:17.779188Z",
     "shell.execute_reply": "2022-09-13T23:25:17.778139Z"
    },
    "papermill": {
     "duration": 3.952275,
     "end_time": "2022-09-13T23:25:17.782212",
     "exception": false,
     "start_time": "2022-09-13T23:25:13.829937",
     "status": "completed"
    },
    "tags": []
   },
   "outputs": [],
   "source": [
    "train_inputs = train_inputs.astype('float16', copy=False)"
   ]
  },
  {
   "cell_type": "markdown",
   "id": "f5ff9ed6",
   "metadata": {
    "papermill": {
     "duration": 0.00864,
     "end_time": "2022-09-13T23:25:17.801181",
     "exception": false,
     "start_time": "2022-09-13T23:25:17.792541",
     "status": "completed"
    },
    "tags": []
   },
   "source": [
    "## PCA / TruncatedSVD\n",
    "It is not possible to directly apply PCA to a sparse matrix, because PCA has to first \"center\" the data, which destroys the sparsity. This is why we apply `TruncatedSVD` instead (which is pretty much \"PCA without centering\"). It might be better to normalize the data a bit more here, but we will keep it simple."
   ]
  },
  {
   "cell_type": "code",
   "execution_count": 5,
   "id": "6f5a8a9f",
   "metadata": {
    "execution": {
     "iopub.execute_input": "2022-09-13T23:25:17.821204Z",
     "iopub.status.busy": "2022-09-13T23:25:17.820392Z",
     "iopub.status.idle": "2022-09-13T23:34:50.855278Z",
     "shell.execute_reply": "2022-09-13T23:34:50.853313Z"
    },
    "papermill": {
     "duration": 573.061518,
     "end_time": "2022-09-13T23:34:50.871613",
     "exception": false,
     "start_time": "2022-09-13T23:25:17.810095",
     "status": "completed"
    },
    "tags": []
   },
   "outputs": [
    {
     "name": "stdout",
     "output_type": "stream",
     "text": [
      "0.0087636635\n",
      "CPU times: user 9min 27s, sys: 14.3 s, total: 9min 42s\n",
      "Wall time: 9min 33s\n"
     ]
    }
   ],
   "source": [
    "%%time\n",
    "pca = TruncatedSVD(n_components=50, random_state=42)\n",
    "train_inputs = pca.fit_transform(train_inputs)\n",
    "print(pca.explained_variance_ratio_.sum())"
   ]
  },
  {
   "cell_type": "code",
   "execution_count": 6,
   "id": "d7f84657",
   "metadata": {
    "execution": {
     "iopub.execute_input": "2022-09-13T23:34:50.892146Z",
     "iopub.status.busy": "2022-09-13T23:34:50.891693Z",
     "iopub.status.idle": "2022-09-13T23:35:15.938874Z",
     "shell.execute_reply": "2022-09-13T23:35:15.937361Z"
    },
    "papermill": {
     "duration": 25.061722,
     "end_time": "2022-09-13T23:35:15.942429",
     "exception": false,
     "start_time": "2022-09-13T23:34:50.880707",
     "status": "completed"
    },
    "tags": []
   },
   "outputs": [
    {
     "name": "stdout",
     "output_type": "stream",
     "text": [
      "CPU times: user 16 s, sys: 1.13 s, total: 17.1 s\n",
      "Wall time: 25 s\n"
     ]
    }
   ],
   "source": [
    "%%time\n",
    "train_targets = scipy.sparse.load_npz(\"../input/multimodal-single-cell-as-sparse-matrix/train_multi_targets_values.sparse.npz\")"
   ]
  },
  {
   "cell_type": "code",
   "execution_count": 7,
   "id": "b23c8058",
   "metadata": {
    "execution": {
     "iopub.execute_input": "2022-09-13T23:35:15.964694Z",
     "iopub.status.busy": "2022-09-13T23:35:15.963382Z",
     "iopub.status.idle": "2022-09-13T23:37:32.209707Z",
     "shell.execute_reply": "2022-09-13T23:37:32.208273Z"
    },
    "papermill": {
     "duration": 136.269942,
     "end_time": "2022-09-13T23:37:32.222030",
     "exception": false,
     "start_time": "2022-09-13T23:35:15.952088",
     "status": "completed"
    },
    "tags": []
   },
   "outputs": [
    {
     "name": "stdout",
     "output_type": "stream",
     "text": [
      "0.10559903\n",
      "CPU times: user 2min 18s, sys: 3.78 s, total: 2min 21s\n",
      "Wall time: 2min 16s\n"
     ]
    }
   ],
   "source": [
    "%%time\n",
    "pca2 = TruncatedSVD(n_components=50, random_state=42)\n",
    "train_target = pca2.fit_transform(train_targets)\n",
    "print(pca2.explained_variance_ratio_.sum())"
   ]
  },
  {
   "cell_type": "code",
   "execution_count": 8,
   "id": "bfb53bda",
   "metadata": {
    "execution": {
     "iopub.execute_input": "2022-09-13T23:37:32.242696Z",
     "iopub.status.busy": "2022-09-13T23:37:32.241934Z",
     "iopub.status.idle": "2022-09-13T23:37:32.261338Z",
     "shell.execute_reply": "2022-09-13T23:37:32.260052Z"
    },
    "papermill": {
     "duration": 0.033068,
     "end_time": "2022-09-13T23:37:32.264269",
     "exception": false,
     "start_time": "2022-09-13T23:37:32.231201",
     "status": "completed"
    },
    "tags": []
   },
   "outputs": [],
   "source": [
    "from sklearn.gaussian_process.kernels import RBF\n",
    "from sklearn.kernel_ridge import KernelRidge\n",
    "kernel = RBF(length_scale = 10)\n",
    "krr = KernelRidge(alpha=0.2, kernel=kernel) # alpha range: 0.1-1.0"
   ]
  },
  {
   "cell_type": "code",
   "execution_count": 9,
   "id": "489cdfff",
   "metadata": {
    "execution": {
     "iopub.execute_input": "2022-09-13T23:37:32.285178Z",
     "iopub.status.busy": "2022-09-13T23:37:32.284766Z",
     "iopub.status.idle": "2022-09-13T23:37:32.289587Z",
     "shell.execute_reply": "2022-09-13T23:37:32.288269Z"
    },
    "papermill": {
     "duration": 0.017999,
     "end_time": "2022-09-13T23:37:32.292221",
     "exception": false,
     "start_time": "2022-09-13T23:37:32.274222",
     "status": "completed"
    },
    "tags": []
   },
   "outputs": [],
   "source": [
    "n = 5"
   ]
  },
  {
   "cell_type": "code",
   "execution_count": 10,
   "id": "73c6cce3",
   "metadata": {
    "execution": {
     "iopub.execute_input": "2022-09-13T23:37:32.312848Z",
     "iopub.status.busy": "2022-09-13T23:37:32.312161Z",
     "iopub.status.idle": "2022-09-13T23:59:25.751639Z",
     "shell.execute_reply": "2022-09-13T23:59:25.750340Z"
    },
    "papermill": {
     "duration": 1313.464898,
     "end_time": "2022-09-13T23:59:25.766445",
     "exception": false,
     "start_time": "2022-09-13T23:37:32.301547",
     "status": "completed"
    },
    "tags": []
   },
   "outputs": [
    {
     "name": "stdout",
     "output_type": "stream",
     "text": [
      "start [0:21188]\n",
      "Train...\n",
      "0 0.6677549854475622\n",
      "Train...\n",
      "1 0.6678806945487705\n",
      "Train...\n",
      "2 0.66722359949446\n",
      "Train...\n",
      "3 0.6691273985274065\n",
      "Train...\n",
      "4 0.6688757779556356\n",
      "start [21188:42376]\n",
      "Train...\n",
      "5 0.6681304955878865\n",
      "Train...\n",
      "6 0.6669767685373553\n",
      "Train...\n",
      "7 0.6689315401457525\n",
      "Train...\n",
      "8 0.6673662296332239\n",
      "Train...\n",
      "9 0.6673014971929867\n",
      "start [42376:63564]\n",
      "Train...\n",
      "10 0.6692023929247037\n",
      "Train...\n",
      "11 0.6680836834719595\n",
      "Train...\n",
      "12 0.6670938440319344\n",
      "Train...\n",
      "13 0.6690746005909588\n",
      "Train...\n",
      "14 0.6672494652037124\n",
      "start [63564:84752]\n",
      "Train...\n",
      "15 0.6680941619026332\n",
      "Train...\n",
      "16 0.666380281043041\n",
      "Train...\n",
      "17 0.6680227037423783\n",
      "Train...\n",
      "18 0.669842331257094\n",
      "Train...\n",
      "19 0.668893808037132\n",
      "start [84752:105940]\n",
      "Train...\n",
      "20 0.6684693677006818\n",
      "Train...\n",
      "21 0.6696162231916681\n",
      "Train...\n",
      "22 0.6676087065943052\n",
      "Train...\n",
      "23 0.6674222413444935\n",
      "Train...\n",
      "24 0.6679624946019537\n"
     ]
    }
   ],
   "source": [
    "np.random.seed(42)\n",
    "all_row_indices = np.arange(train_inputs.shape[0])\n",
    "np.random.shuffle(all_row_indices)\n",
    "\n",
    "kf = KFold(n_splits=5, shuffle=True, random_state=42)\n",
    "\n",
    "index = 0\n",
    "score = []\n",
    "\n",
    "d = train_inputs.shape[0]//n\n",
    "for i in range(0, n*d, d):\n",
    "    print(f'start [{i}:{i+d}]')\n",
    "    ind = all_row_indices[i:i+d]    \n",
    "    for idx_tr, idx_va in kf.split(ind):\n",
    "        X = train_inputs[ind]\n",
    "        Y = train_target[ind] #.todense()\n",
    "        Yva = train_targets[ind][idx_va]\n",
    "        Xtr, Xva = X[idx_tr], X[idx_va]\n",
    "        Ytr = Y[idx_tr]\n",
    "        del X, Y\n",
    "        gc.collect()\n",
    "        print('Train...')\n",
    "        model = krr #Ridge(copy_X=False)\n",
    "        model.fit(Xtr, Ytr)\n",
    "        del Xtr, Ytr\n",
    "        gc.collect()\n",
    "        s = correlation_score(Yva.todense(), model.predict(Xva)@pca2.components_)\n",
    "        score.append(s)\n",
    "        print(index, s)\n",
    "        del Xva, Yva\n",
    "        gc.collect()\n",
    "        pkl_filename = f\"model{index:02d}.pkl\"\n",
    "        index += 1\n",
    "        with open(pkl_filename, 'wb') as file:\n",
    "            pickle.dump(model, file)\n",
    "    gc.collect()"
   ]
  },
  {
   "cell_type": "code",
   "execution_count": 11,
   "id": "4479812e",
   "metadata": {
    "execution": {
     "iopub.execute_input": "2022-09-13T23:59:25.793002Z",
     "iopub.status.busy": "2022-09-13T23:59:25.792594Z",
     "iopub.status.idle": "2022-09-13T23:59:25.924945Z",
     "shell.execute_reply": "2022-09-13T23:59:25.923608Z"
    },
    "papermill": {
     "duration": 0.148471,
     "end_time": "2022-09-13T23:59:25.927337",
     "exception": false,
     "start_time": "2022-09-13T23:59:25.778866",
     "status": "completed"
    },
    "tags": []
   },
   "outputs": [
    {
     "data": {
      "text/plain": [
       "21"
      ]
     },
     "execution_count": 11,
     "metadata": {},
     "output_type": "execute_result"
    }
   ],
   "source": [
    "del train_target, train_inputs, train_targets\n",
    "gc.collect()"
   ]
  },
  {
   "cell_type": "markdown",
   "id": "822fa586",
   "metadata": {
    "papermill": {
     "duration": 0.0121,
     "end_time": "2022-09-13T23:59:25.952123",
     "exception": false,
     "start_time": "2022-09-13T23:59:25.940023",
     "status": "completed"
    },
    "tags": []
   },
   "source": [
    "# Predicting"
   ]
  },
  {
   "cell_type": "code",
   "execution_count": 12,
   "id": "2328132a",
   "metadata": {
    "execution": {
     "iopub.execute_input": "2022-09-13T23:59:25.979139Z",
     "iopub.status.busy": "2022-09-13T23:59:25.978744Z",
     "iopub.status.idle": "2022-09-14T00:00:27.072644Z",
     "shell.execute_reply": "2022-09-14T00:00:27.071214Z"
    },
    "papermill": {
     "duration": 61.122452,
     "end_time": "2022-09-14T00:00:27.087375",
     "exception": false,
     "start_time": "2022-09-13T23:59:25.964923",
     "status": "completed"
    },
    "tags": []
   },
   "outputs": [
    {
     "name": "stdout",
     "output_type": "stream",
     "text": [
      "CPU times: user 43.7 s, sys: 1.62 s, total: 45.3 s\n",
      "Wall time: 1min 1s\n"
     ]
    }
   ],
   "source": [
    "%%time\n",
    "multi_test_x = scipy.sparse.load_npz(\"../input/multimodal-single-cell-as-sparse-matrix/test_multi_inputs_values.sparse.npz\")\n",
    "multi_test_x = pca.transform(multi_test_x)"
   ]
  },
  {
   "cell_type": "code",
   "execution_count": 14,
   "id": "8672b4d9",
   "metadata": {
    "execution": {
     "iopub.execute_input": "2022-09-14T00:00:27.148326Z",
     "iopub.status.busy": "2022-09-14T00:00:27.147495Z",
     "iopub.status.idle": "2022-09-14T00:00:27.275103Z",
     "shell.execute_reply": "2022-09-14T00:00:27.274182Z"
    },
    "papermill": {
     "duration": 0.14353,
     "end_time": "2022-09-14T00:00:27.277320",
     "exception": false,
     "start_time": "2022-09-14T00:00:27.133790",
     "status": "completed"
    },
    "tags": []
   },
   "outputs": [
    {
     "data": {
      "text/plain": [
       "103"
      ]
     },
     "execution_count": 14,
     "metadata": {},
     "output_type": "execute_result"
    }
   ],
   "source": [
    "test_len = multi_test_x.shape[0]\n",
    "d = test_len//n\n",
    "x = []\n",
    "for i in range(n):\n",
    "    x.append(multi_test_x[i*d:i*d+d])\n",
    "del multi_test_x\n",
    "gc.collect()"
   ]
  },
  {
   "cell_type": "code",
   "execution_count": 15,
   "id": "99832db8",
   "metadata": {
    "execution": {
     "iopub.execute_input": "2022-09-14T00:00:27.304862Z",
     "iopub.status.busy": "2022-09-14T00:00:27.303877Z",
     "iopub.status.idle": "2022-09-14T00:00:27.310883Z",
     "shell.execute_reply": "2022-09-14T00:00:27.309760Z"
    },
    "papermill": {
     "duration": 0.023245,
     "end_time": "2022-09-14T00:00:27.313274",
     "exception": false,
     "start_time": "2022-09-14T00:00:27.290029",
     "status": "completed"
    },
    "tags": []
   },
   "outputs": [
    {
     "data": {
      "text/plain": [
       "25"
      ]
     },
     "execution_count": 15,
     "metadata": {},
     "output_type": "execute_result"
    }
   ],
   "source": [
    "index"
   ]
  },
  {
   "cell_type": "code",
   "execution_count": 16,
   "id": "02a3d4bc",
   "metadata": {
    "execution": {
     "iopub.execute_input": "2022-09-14T00:00:27.340879Z",
     "iopub.status.busy": "2022-09-14T00:00:27.340443Z",
     "iopub.status.idle": "2022-09-14T00:27:36.922315Z",
     "shell.execute_reply": "2022-09-14T00:27:36.921030Z"
    },
    "papermill": {
     "duration": 1629.620095,
     "end_time": "2022-09-14T00:27:36.946440",
     "exception": false,
     "start_time": "2022-09-14T00:00:27.326345",
     "status": "completed"
    },
    "tags": []
   },
   "outputs": [
    {
     "name": "stdout",
     "output_type": "stream",
     "text": [
      "0 1 2 3 4 5 6 7 8 9 10 11 12 13 14 15 16 17 18 19 20 21 22 23 24 \n",
      "0 1 2 3 4 5 6 7 8 9 10 11 12 13 14 15 16 17 18 19 20 21 22 23 24 \n",
      "0 1 2 3 4 5 6 7 8 9 10 11 12 13 14 15 16 17 18 19 20 21 22 23 24 \n",
      "0 1 2 3 4 5 6 7 8 9 10 11 12 13 14 15 16 17 18 19 20 21 22 23 24 \n",
      "0 1 2 3 4 5 6 7 8 9 10 11 12 13 14 15 16 17 18 19 20 21 22 23 24 \n"
     ]
    },
    {
     "data": {
      "text/plain": [
       "0"
      ]
     },
     "execution_count": 16,
     "metadata": {},
     "output_type": "execute_result"
    }
   ],
   "source": [
    "preds = np.zeros((test_len, 23418), dtype='float16')\n",
    "for i,xx in enumerate(x):\n",
    "    for ind in range(index):\n",
    "        print(ind, end=' ')\n",
    "        with open(f'model{ind:02}.pkl', 'rb') as file:\n",
    "            model = pickle.load(file)\n",
    "        preds[i*d:i*d+d,:] += (model.predict(xx)@pca2.components_)/index\n",
    "        gc.collect()\n",
    "    print('')\n",
    "    del xx\n",
    "gc.collect()"
   ]
  },
  {
   "cell_type": "code",
   "execution_count": 17,
   "id": "9bd036ad",
   "metadata": {
    "execution": {
     "iopub.execute_input": "2022-09-14T00:27:36.989936Z",
     "iopub.status.busy": "2022-09-14T00:27:36.989550Z",
     "iopub.status.idle": "2022-09-14T00:27:37.105785Z",
     "shell.execute_reply": "2022-09-14T00:27:37.104653Z"
    },
    "papermill": {
     "duration": 0.140825,
     "end_time": "2022-09-14T00:27:37.108174",
     "exception": false,
     "start_time": "2022-09-14T00:27:36.967349",
     "status": "completed"
    },
    "tags": []
   },
   "outputs": [
    {
     "data": {
      "text/plain": [
       "21"
      ]
     },
     "execution_count": 17,
     "metadata": {},
     "output_type": "execute_result"
    }
   ],
   "source": [
    "del x\n",
    "gc.collect()"
   ]
  },
  {
   "cell_type": "code",
   "execution_count": 18,
   "id": "ab94e843",
   "metadata": {
    "execution": {
     "iopub.execute_input": "2022-09-14T00:27:37.151055Z",
     "iopub.status.busy": "2022-09-14T00:27:37.150286Z",
     "iopub.status.idle": "2022-09-14T00:27:40.900991Z",
     "shell.execute_reply": "2022-09-14T00:27:40.899673Z"
    },
    "papermill": {
     "duration": 3.775519,
     "end_time": "2022-09-14T00:27:40.904249",
     "exception": false,
     "start_time": "2022-09-14T00:27:37.128730",
     "status": "completed"
    },
    "tags": []
   },
   "outputs": [],
   "source": [
    "np.save('preds.npy', preds)"
   ]
  },
  {
   "cell_type": "code",
   "execution_count": 19,
   "id": "d2621df8",
   "metadata": {
    "execution": {
     "iopub.execute_input": "2022-09-14T00:27:41.245391Z",
     "iopub.status.busy": "2022-09-14T00:27:41.244349Z",
     "iopub.status.idle": "2022-09-14T00:27:41.250793Z",
     "shell.execute_reply": "2022-09-14T00:27:41.249538Z"
    },
    "papermill": {
     "duration": 0.119924,
     "end_time": "2022-09-14T00:27:41.254928",
     "exception": false,
     "start_time": "2022-09-14T00:27:41.135004",
     "status": "completed"
    },
    "tags": []
   },
   "outputs": [],
   "source": [
    "preds = preds.astype('float16', copy=False)"
   ]
  },
  {
   "cell_type": "markdown",
   "id": "7df644da",
   "metadata": {
    "papermill": {
     "duration": 0.116675,
     "end_time": "2022-09-14T00:27:41.457271",
     "exception": false,
     "start_time": "2022-09-14T00:27:41.340596",
     "status": "completed"
    },
    "tags": []
   },
   "source": [
    "# Creating submission\n",
    "\n",
    "We load the cells that will have to appear in submission."
   ]
  },
  {
   "cell_type": "code",
   "execution_count": 20,
   "id": "2bffaf8e",
   "metadata": {
    "execution": {
     "iopub.execute_input": "2022-09-14T00:27:41.795093Z",
     "iopub.status.busy": "2022-09-14T00:27:41.791570Z",
     "iopub.status.idle": "2022-09-14T00:28:15.531240Z",
     "shell.execute_reply": "2022-09-14T00:28:15.530013Z"
    },
    "papermill": {
     "duration": 33.994407,
     "end_time": "2022-09-14T00:28:15.553194",
     "exception": false,
     "start_time": "2022-09-14T00:27:41.558787",
     "status": "completed"
    },
    "tags": []
   },
   "outputs": [
    {
     "name": "stdout",
     "output_type": "stream",
     "text": [
      "CPU times: user 28.3 s, sys: 11 s, total: 39.2 s\n",
      "Wall time: 33.7 s\n"
     ]
    }
   ],
   "source": [
    "%%time\n",
    "# Read the table of rows and columns required for submission\n",
    "eval_ids = pd.read_parquet(\"../input/multimodal-single-cell-as-sparse-matrix/evaluation.parquet\")\n",
    "eval_ids.cell_id = eval_ids.cell_id.astype(pd.CategoricalDtype())\n",
    "eval_ids.gene_id = eval_ids.gene_id.astype(pd.CategoricalDtype())"
   ]
  },
  {
   "cell_type": "code",
   "execution_count": 21,
   "id": "0799b651",
   "metadata": {
    "execution": {
     "iopub.execute_input": "2022-09-14T00:28:15.595810Z",
     "iopub.status.busy": "2022-09-14T00:28:15.595373Z",
     "iopub.status.idle": "2022-09-14T00:28:38.835646Z",
     "shell.execute_reply": "2022-09-14T00:28:38.834475Z"
    },
    "papermill": {
     "duration": 23.264467,
     "end_time": "2022-09-14T00:28:38.838134",
     "exception": false,
     "start_time": "2022-09-14T00:28:15.573667",
     "status": "completed"
    },
    "tags": []
   },
   "outputs": [
    {
     "data": {
      "text/plain": [
       "row_id    cell_id       gene_id        \n",
       "0         c2150f55becb  CD86              NaN\n",
       "1         c2150f55becb  CD274             NaN\n",
       "2         c2150f55becb  CD270             NaN\n",
       "3         c2150f55becb  CD155             NaN\n",
       "4         c2150f55becb  CD112             NaN\n",
       "                                           ..\n",
       "65744175  2c53aa67933d  ENSG00000134419   NaN\n",
       "65744176  2c53aa67933d  ENSG00000186862   NaN\n",
       "65744177  2c53aa67933d  ENSG00000170959   NaN\n",
       "65744178  2c53aa67933d  ENSG00000107874   NaN\n",
       "65744179  2c53aa67933d  ENSG00000166012   NaN\n",
       "Name: target, Length: 65744180, dtype: float32"
      ]
     },
     "execution_count": 21,
     "metadata": {},
     "output_type": "execute_result"
    }
   ],
   "source": [
    "# Prepare an empty series which will be filled with predictions\n",
    "submission = pd.Series(name='target',\n",
    "                       index=pd.MultiIndex.from_frame(eval_ids), \n",
    "                       dtype=np.float32)\n",
    "submission"
   ]
  },
  {
   "cell_type": "markdown",
   "id": "ea096968",
   "metadata": {
    "papermill": {
     "duration": 0.020714,
     "end_time": "2022-09-14T00:28:38.879842",
     "exception": false,
     "start_time": "2022-09-14T00:28:38.859128",
     "status": "completed"
    },
    "tags": []
   },
   "source": [
    "We load the `index`  and `columns` of the original dataframe, as we need them to make the submission."
   ]
  },
  {
   "cell_type": "code",
   "execution_count": 22,
   "id": "941e7ddf",
   "metadata": {
    "execution": {
     "iopub.execute_input": "2022-09-14T00:28:38.924320Z",
     "iopub.status.busy": "2022-09-14T00:28:38.923571Z",
     "iopub.status.idle": "2022-09-14T00:28:39.031112Z",
     "shell.execute_reply": "2022-09-14T00:28:39.029801Z"
    },
    "papermill": {
     "duration": 0.133035,
     "end_time": "2022-09-14T00:28:39.033996",
     "exception": false,
     "start_time": "2022-09-14T00:28:38.900961",
     "status": "completed"
    },
    "tags": []
   },
   "outputs": [
    {
     "name": "stdout",
     "output_type": "stream",
     "text": [
      "CPU times: user 32.7 ms, sys: 6.64 ms, total: 39.3 ms\n",
      "Wall time: 101 ms\n"
     ]
    }
   ],
   "source": [
    "%%time\n",
    "y_columns = np.load(\"../input/multimodal-single-cell-as-sparse-matrix/train_multi_targets_idxcol.npz\",\n",
    "                   allow_pickle=True)[\"columns\"]\n",
    "\n",
    "test_index = np.load(\"../input/multimodal-single-cell-as-sparse-matrix/test_multi_inputs_idxcol.npz\",\n",
    "                    allow_pickle=True)[\"index\"]"
   ]
  },
  {
   "cell_type": "markdown",
   "id": "a907d8f2",
   "metadata": {
    "papermill": {
     "duration": 0.020803,
     "end_time": "2022-09-14T00:28:39.075911",
     "exception": false,
     "start_time": "2022-09-14T00:28:39.055108",
     "status": "completed"
    },
    "tags": []
   },
   "source": [
    "We assign the predicted values to the correct row in the submission file."
   ]
  },
  {
   "cell_type": "code",
   "execution_count": 23,
   "id": "b5e495ad",
   "metadata": {
    "execution": {
     "iopub.execute_input": "2022-09-14T00:28:39.118597Z",
     "iopub.status.busy": "2022-09-14T00:28:39.118198Z",
     "iopub.status.idle": "2022-09-14T00:28:39.148173Z",
     "shell.execute_reply": "2022-09-14T00:28:39.147289Z"
    },
    "papermill": {
     "duration": 0.054286,
     "end_time": "2022-09-14T00:28:39.150699",
     "exception": false,
     "start_time": "2022-09-14T00:28:39.096413",
     "status": "completed"
    },
    "tags": []
   },
   "outputs": [],
   "source": [
    "cell_dict = dict((k,v) for v,k in enumerate(test_index)) \n",
    "assert len(cell_dict)  == len(test_index)\n",
    "\n",
    "gene_dict = dict((k,v) for v,k in enumerate(y_columns))\n",
    "assert len(gene_dict) == len(y_columns)"
   ]
  },
  {
   "cell_type": "code",
   "execution_count": 24,
   "id": "9f989a68",
   "metadata": {
    "execution": {
     "iopub.execute_input": "2022-09-14T00:28:39.194325Z",
     "iopub.status.busy": "2022-09-14T00:28:39.193586Z",
     "iopub.status.idle": "2022-09-14T00:28:42.908404Z",
     "shell.execute_reply": "2022-09-14T00:28:42.906833Z"
    },
    "papermill": {
     "duration": 3.740152,
     "end_time": "2022-09-14T00:28:42.911559",
     "exception": false,
     "start_time": "2022-09-14T00:28:39.171407",
     "status": "completed"
    },
    "tags": []
   },
   "outputs": [],
   "source": [
    "eval_ids_cell_num = eval_ids.cell_id.apply(lambda x:cell_dict.get(x, -1))\n",
    "eval_ids_gene_num = eval_ids.gene_id.apply(lambda x:gene_dict.get(x, -1))\n",
    "\n",
    "valid_multi_rows = (eval_ids_gene_num !=-1) & (eval_ids_cell_num!=-1)"
   ]
  },
  {
   "cell_type": "code",
   "execution_count": 25,
   "id": "31bb1632",
   "metadata": {
    "execution": {
     "iopub.execute_input": "2022-09-14T00:28:42.956047Z",
     "iopub.status.busy": "2022-09-14T00:28:42.955614Z",
     "iopub.status.idle": "2022-09-14T00:28:47.162448Z",
     "shell.execute_reply": "2022-09-14T00:28:47.160910Z"
    },
    "papermill": {
     "duration": 4.232598,
     "end_time": "2022-09-14T00:28:47.165209",
     "exception": false,
     "start_time": "2022-09-14T00:28:42.932611",
     "status": "completed"
    },
    "tags": []
   },
   "outputs": [],
   "source": [
    "submission.iloc[valid_multi_rows] = preds[eval_ids_cell_num[valid_multi_rows].to_numpy(),\n",
    "eval_ids_gene_num[valid_multi_rows].to_numpy()]"
   ]
  },
  {
   "cell_type": "code",
   "execution_count": 26,
   "id": "0f465a53",
   "metadata": {
    "execution": {
     "iopub.execute_input": "2022-09-14T00:28:47.208304Z",
     "iopub.status.busy": "2022-09-14T00:28:47.207610Z",
     "iopub.status.idle": "2022-09-14T00:28:47.360801Z",
     "shell.execute_reply": "2022-09-14T00:28:47.359630Z"
    },
    "papermill": {
     "duration": 0.177264,
     "end_time": "2022-09-14T00:28:47.363156",
     "exception": false,
     "start_time": "2022-09-14T00:28:47.185892",
     "status": "completed"
    },
    "tags": []
   },
   "outputs": [
    {
     "data": {
      "text/plain": [
       "21"
      ]
     },
     "execution_count": 26,
     "metadata": {},
     "output_type": "execute_result"
    }
   ],
   "source": [
    "del eval_ids_cell_num, eval_ids_gene_num, valid_multi_rows, eval_ids, test_index, y_columns\n",
    "gc.collect()"
   ]
  },
  {
   "cell_type": "code",
   "execution_count": 27,
   "id": "a58409b0",
   "metadata": {
    "execution": {
     "iopub.execute_input": "2022-09-14T00:28:47.406722Z",
     "iopub.status.busy": "2022-09-14T00:28:47.405872Z",
     "iopub.status.idle": "2022-09-14T00:28:47.416919Z",
     "shell.execute_reply": "2022-09-14T00:28:47.415902Z"
    },
    "papermill": {
     "duration": 0.035599,
     "end_time": "2022-09-14T00:28:47.419152",
     "exception": false,
     "start_time": "2022-09-14T00:28:47.383553",
     "status": "completed"
    },
    "tags": []
   },
   "outputs": [
    {
     "data": {
      "text/plain": [
       "row_id    cell_id       gene_id        \n",
       "0         c2150f55becb  CD86                    NaN\n",
       "1         c2150f55becb  CD274                   NaN\n",
       "2         c2150f55becb  CD270                   NaN\n",
       "3         c2150f55becb  CD155                   NaN\n",
       "4         c2150f55becb  CD112                   NaN\n",
       "                                             ...   \n",
       "65744175  2c53aa67933d  ENSG00000134419    6.664062\n",
       "65744176  2c53aa67933d  ENSG00000186862    0.043762\n",
       "65744177  2c53aa67933d  ENSG00000170959    0.053680\n",
       "65744178  2c53aa67933d  ENSG00000107874    1.255859\n",
       "65744179  2c53aa67933d  ENSG00000166012    5.785156\n",
       "Name: target, Length: 65744180, dtype: float32"
      ]
     },
     "execution_count": 27,
     "metadata": {},
     "output_type": "execute_result"
    }
   ],
   "source": [
    "submission"
   ]
  },
  {
   "cell_type": "markdown",
   "id": "6c8d21a8",
   "metadata": {
    "papermill": {
     "duration": 0.020176,
     "end_time": "2022-09-14T00:28:47.460025",
     "exception": false,
     "start_time": "2022-09-14T00:28:47.439849",
     "status": "completed"
    },
    "tags": []
   },
   "source": [
    "# Merging with CITEseq predictions"
   ]
  },
  {
   "cell_type": "code",
   "execution_count": 28,
   "id": "2707ee3f",
   "metadata": {
    "execution": {
     "iopub.execute_input": "2022-09-14T00:28:47.503357Z",
     "iopub.status.busy": "2022-09-14T00:28:47.502298Z",
     "iopub.status.idle": "2022-09-14T00:28:47.668249Z",
     "shell.execute_reply": "2022-09-14T00:28:47.667084Z"
    },
    "papermill": {
     "duration": 0.190403,
     "end_time": "2022-09-14T00:28:47.670902",
     "exception": false,
     "start_time": "2022-09-14T00:28:47.480499",
     "status": "completed"
    },
    "tags": []
   },
   "outputs": [],
   "source": [
    "submission.reset_index(drop=True, inplace=True)\n",
    "submission.index.name = 'row_id'"
   ]
  },
  {
   "cell_type": "code",
   "execution_count": 29,
   "id": "3fb82740",
   "metadata": {
    "execution": {
     "iopub.execute_input": "2022-09-14T00:28:47.714760Z",
     "iopub.status.busy": "2022-09-14T00:28:47.713760Z",
     "iopub.status.idle": "2022-09-14T00:29:14.438164Z",
     "shell.execute_reply": "2022-09-14T00:29:14.436897Z"
    },
    "papermill": {
     "duration": 26.749247,
     "end_time": "2022-09-14T00:29:14.441076",
     "exception": false,
     "start_time": "2022-09-14T00:28:47.691829",
     "status": "completed"
    },
    "tags": []
   },
   "outputs": [],
   "source": [
    "cite_submission = pd.read_csv(\"../input/msci-citeseq-keras-quickstart/submission.csv\")\n",
    "cite_submission = cite_submission.set_index(\"row_id\")\n",
    "cite_submission = cite_submission[\"target\"]"
   ]
  },
  {
   "cell_type": "code",
   "execution_count": 30,
   "id": "f0fd4f77",
   "metadata": {
    "execution": {
     "iopub.execute_input": "2022-09-14T00:29:14.484524Z",
     "iopub.status.busy": "2022-09-14T00:29:14.483872Z",
     "iopub.status.idle": "2022-09-14T00:29:16.440205Z",
     "shell.execute_reply": "2022-09-14T00:29:16.438770Z"
    },
    "papermill": {
     "duration": 1.981277,
     "end_time": "2022-09-14T00:29:16.443102",
     "exception": false,
     "start_time": "2022-09-14T00:29:14.461825",
     "status": "completed"
    },
    "tags": []
   },
   "outputs": [],
   "source": [
    "submission[submission.isnull()] = cite_submission[submission.isnull()]"
   ]
  },
  {
   "cell_type": "code",
   "execution_count": 31,
   "id": "651a2889",
   "metadata": {
    "execution": {
     "iopub.execute_input": "2022-09-14T00:29:16.487557Z",
     "iopub.status.busy": "2022-09-14T00:29:16.486314Z",
     "iopub.status.idle": "2022-09-14T00:29:16.495673Z",
     "shell.execute_reply": "2022-09-14T00:29:16.494531Z"
    },
    "papermill": {
     "duration": 0.034071,
     "end_time": "2022-09-14T00:29:16.498171",
     "exception": false,
     "start_time": "2022-09-14T00:29:16.464100",
     "status": "completed"
    },
    "tags": []
   },
   "outputs": [
    {
     "data": {
      "text/plain": [
       "row_id\n",
       "0           0.094605\n",
       "1          -0.162362\n",
       "2          -0.405332\n",
       "3          -0.302582\n",
       "4           1.114355\n",
       "              ...   \n",
       "65744175    6.664062\n",
       "65744176    0.043762\n",
       "65744177    0.053680\n",
       "65744178    1.255859\n",
       "65744179    5.785156\n",
       "Name: target, Length: 65744180, dtype: float32"
      ]
     },
     "execution_count": 31,
     "metadata": {},
     "output_type": "execute_result"
    }
   ],
   "source": [
    "submission"
   ]
  },
  {
   "cell_type": "code",
   "execution_count": 32,
   "id": "fdb9479a",
   "metadata": {
    "execution": {
     "iopub.execute_input": "2022-09-14T00:29:16.542360Z",
     "iopub.status.busy": "2022-09-14T00:29:16.541666Z",
     "iopub.status.idle": "2022-09-14T00:29:16.595161Z",
     "shell.execute_reply": "2022-09-14T00:29:16.593786Z"
    },
    "papermill": {
     "duration": 0.078812,
     "end_time": "2022-09-14T00:29:16.597989",
     "exception": false,
     "start_time": "2022-09-14T00:29:16.519177",
     "status": "completed"
    },
    "tags": []
   },
   "outputs": [
    {
     "data": {
      "text/plain": [
       "False"
      ]
     },
     "execution_count": 32,
     "metadata": {},
     "output_type": "execute_result"
    }
   ],
   "source": [
    "submission.isnull().any()"
   ]
  },
  {
   "cell_type": "code",
   "execution_count": 33,
   "id": "bf5c5c9d",
   "metadata": {
    "execution": {
     "iopub.execute_input": "2022-09-14T00:29:16.642367Z",
     "iopub.status.busy": "2022-09-14T00:29:16.641980Z",
     "iopub.status.idle": "2022-09-14T00:31:30.236292Z",
     "shell.execute_reply": "2022-09-14T00:31:30.234933Z"
    },
    "papermill": {
     "duration": 133.620044,
     "end_time": "2022-09-14T00:31:30.239577",
     "exception": false,
     "start_time": "2022-09-14T00:29:16.619533",
     "status": "completed"
    },
    "tags": []
   },
   "outputs": [],
   "source": [
    "submission.to_csv(\"submission.csv\")"
   ]
  }
 ],
 "metadata": {
  "kernelspec": {
   "display_name": "Python 3",
   "language": "python",
   "name": "python3"
  },
  "language_info": {
   "codemirror_mode": {
    "name": "ipython",
    "version": 3
   },
   "file_extension": ".py",
   "mimetype": "text/x-python",
   "name": "python",
   "nbconvert_exporter": "python",
   "pygments_lexer": "ipython3",
   "version": "3.9.12"
  },
  "papermill": {
   "default_parameters": {},
   "duration": 4051.31194,
   "end_time": "2022-09-14T00:31:32.734083",
   "environment_variables": {},
   "exception": null,
   "input_path": "__notebook__.ipynb",
   "output_path": "__notebook__.ipynb",
   "parameters": {},
   "start_time": "2022-09-13T23:24:01.422143",
   "version": "2.3.4"
  }
 },
 "nbformat": 4,
 "nbformat_minor": 5
}
