{
 "cells": [
  {
   "cell_type": "markdown",
   "id": "07b8d8ec",
   "metadata": {
    "papermill": {
     "duration": 0.011989,
     "end_time": "2022-09-14T06:34:15.206381",
     "exception": false,
     "start_time": "2022-09-14T06:34:15.194392",
     "status": "completed"
    },
    "tags": []
   },
   "source": [
    "+ I used `TruncatedSVD(n_components=128, random_state=42)` both on train and test data.\n",
    "+ CatBoostRegressor is used. To save time， only trained on fold_0. Maybe more fold will help to impore score."
   ]
  },
  {
   "cell_type": "code",
   "execution_count": 1,
   "id": "56553a4e",
   "metadata": {
    "_kg_hide-input": true,
    "execution": {
     "iopub.execute_input": "2022-09-14T06:34:15.229879Z",
     "iopub.status.busy": "2022-09-14T06:34:15.229223Z",
     "iopub.status.idle": "2022-09-14T06:34:16.461118Z",
     "shell.execute_reply": "2022-09-14T06:34:16.459872Z"
    },
    "papermill": {
     "duration": 1.247032,
     "end_time": "2022-09-14T06:34:16.464128",
     "exception": false,
     "start_time": "2022-09-14T06:34:15.217096",
     "status": "completed"
    },
    "tags": []
   },
   "outputs": [],
   "source": [
    "import os, gc, pickle\n",
    "import pandas as pd\n",
    "import matplotlib.pyplot as plt\n",
    "import numpy as np\n",
    "from colorama import Fore, Back, Style\n",
    "from matplotlib.ticker import MaxNLocator\n",
    "\n",
    "from sklearn.base import BaseEstimator, TransformerMixin\n",
    "from sklearn.model_selection import KFold\n",
    "from sklearn.preprocessing import StandardScaler, scale\n",
    "from sklearn.decomposition import PCA, TruncatedSVD\n",
    "from sklearn.dummy import DummyRegressor\n",
    "from sklearn.pipeline import make_pipeline, Pipeline\n",
    "from sklearn.linear_model import Ridge, LinearRegression, Lasso\n",
    "from sklearn.metrics import mean_squared_error\n",
    "\n",
    "import scipy\n",
    "import scipy.sparse\n",
    "\n",
    "import gc\n",
    "import pickle\n",
    "import warnings\n",
    "warnings.filterwarnings('ignore')"
   ]
  },
  {
   "cell_type": "code",
   "execution_count": 2,
   "id": "56c3cf28",
   "metadata": {
    "execution": {
     "iopub.execute_input": "2022-09-14T06:34:16.487624Z",
     "iopub.status.busy": "2022-09-14T06:34:16.486926Z",
     "iopub.status.idle": "2022-09-14T06:34:16.493657Z",
     "shell.execute_reply": "2022-09-14T06:34:16.492773Z"
    },
    "jupyter": {
     "source_hidden": true
    },
    "papermill": {
     "duration": 0.021445,
     "end_time": "2022-09-14T06:34:16.496104",
     "exception": false,
     "start_time": "2022-09-14T06:34:16.474659",
     "status": "completed"
    },
    "tags": []
   },
   "outputs": [],
   "source": [
    "def correlation_score(y_true, y_pred):\n",
    "    \"\"\"Scores the predictions according to the competition rules. \n",
    "    \n",
    "    It is assumed that the predictions are not constant.\n",
    "    \n",
    "    Returns the average of each sample's Pearson correlation coefficient\"\"\"\n",
    "    if type(y_true) == pd.DataFrame: y_true = y_true.values\n",
    "    if type(y_pred) == pd.DataFrame: y_pred = y_pred.values\n",
    "    if y_true.shape != y_pred.shape: raise ValueError(\"Shapes are different.\")\n",
    "    corrsum = 0\n",
    "    for i in range(len(y_true)):\n",
    "        corrsum += np.corrcoef(y_true[i], y_pred[i])[1, 0]\n",
    "    return corrsum / len(y_true)\n"
   ]
  },
  {
   "cell_type": "markdown",
   "id": "25581255",
   "metadata": {
    "papermill": {
     "duration": 0.010222,
     "end_time": "2022-09-14T06:34:16.516889",
     "exception": false,
     "start_time": "2022-09-14T06:34:16.506667",
     "status": "completed"
    },
    "tags": []
   },
   "source": [
    "# Preprocessing and cross-validation\n",
    "\n",
    "We first load all of the training input data for Multiome. It should take less than a minute."
   ]
  },
  {
   "cell_type": "code",
   "execution_count": 3,
   "id": "d3cbec6b",
   "metadata": {
    "execution": {
     "iopub.execute_input": "2022-09-14T06:34:16.540628Z",
     "iopub.status.busy": "2022-09-14T06:34:16.540214Z",
     "iopub.status.idle": "2022-09-14T06:35:14.821974Z",
     "shell.execute_reply": "2022-09-14T06:35:14.820229Z"
    },
    "papermill": {
     "duration": 58.313319,
     "end_time": "2022-09-14T06:35:14.841658",
     "exception": false,
     "start_time": "2022-09-14T06:34:16.528339",
     "status": "completed"
    },
    "tags": []
   },
   "outputs": [
    {
     "name": "stdout",
     "output_type": "stream",
     "text": [
      "CPU times: user 35.7 s, sys: 3.47 s, total: 39.2 s\n",
      "Wall time: 58.3 s\n"
     ]
    }
   ],
   "source": [
    "%%time\n",
    "train_inputs = scipy.sparse.load_npz(\"../input/multimodal-single-cell-as-sparse-matrix/train_multi_inputs_values.sparse.npz\")"
   ]
  },
  {
   "cell_type": "code",
   "execution_count": 4,
   "id": "c5332198",
   "metadata": {
    "execution": {
     "iopub.execute_input": "2022-09-14T06:35:14.865257Z",
     "iopub.status.busy": "2022-09-14T06:35:14.864207Z",
     "iopub.status.idle": "2022-09-14T06:35:18.750149Z",
     "shell.execute_reply": "2022-09-14T06:35:18.748898Z"
    },
    "papermill": {
     "duration": 3.901051,
     "end_time": "2022-09-14T06:35:18.753148",
     "exception": false,
     "start_time": "2022-09-14T06:35:14.852097",
     "status": "completed"
    },
    "tags": []
   },
   "outputs": [],
   "source": [
    "train_inputs = train_inputs.astype('float16', copy=False)"
   ]
  },
  {
   "cell_type": "markdown",
   "id": "e325a81a",
   "metadata": {
    "papermill": {
     "duration": 0.01037,
     "end_time": "2022-09-14T06:35:18.774701",
     "exception": false,
     "start_time": "2022-09-14T06:35:18.764331",
     "status": "completed"
    },
    "tags": []
   },
   "source": [
    "##  TruncatedSVD"
   ]
  },
  {
   "cell_type": "code",
   "execution_count": 5,
   "id": "4be68d1e",
   "metadata": {
    "execution": {
     "iopub.execute_input": "2022-09-14T06:35:18.797361Z",
     "iopub.status.busy": "2022-09-14T06:35:18.796971Z",
     "iopub.status.idle": "2022-09-14T06:57:20.316277Z",
     "shell.execute_reply": "2022-09-14T06:57:20.314921Z"
    },
    "papermill": {
     "duration": 1321.548258,
     "end_time": "2022-09-14T06:57:20.333611",
     "exception": false,
     "start_time": "2022-09-14T06:35:18.785353",
     "status": "completed"
    },
    "tags": []
   },
   "outputs": [
    {
     "name": "stdout",
     "output_type": "stream",
     "text": [
      "0.010997659\n",
      "CPU times: user 22min, sys: 20.7 s, total: 22min 21s\n",
      "Wall time: 22min 1s\n"
     ]
    }
   ],
   "source": [
    "%%time\n",
    "pca = TruncatedSVD(n_components=128, random_state=42)\n",
    "train_inputs = pca.fit_transform(train_inputs)\n",
    "print(pca.explained_variance_ratio_.sum())"
   ]
  },
  {
   "cell_type": "code",
   "execution_count": 6,
   "id": "c7aa8207",
   "metadata": {
    "execution": {
     "iopub.execute_input": "2022-09-14T06:57:20.358844Z",
     "iopub.status.busy": "2022-09-14T06:57:20.358073Z",
     "iopub.status.idle": "2022-09-14T06:57:44.208470Z",
     "shell.execute_reply": "2022-09-14T06:57:44.207176Z"
    },
    "papermill": {
     "duration": 23.865901,
     "end_time": "2022-09-14T06:57:44.211184",
     "exception": false,
     "start_time": "2022-09-14T06:57:20.345283",
     "status": "completed"
    },
    "tags": []
   },
   "outputs": [
    {
     "name": "stdout",
     "output_type": "stream",
     "text": [
      "CPU times: user 15.8 s, sys: 1.27 s, total: 17.1 s\n",
      "Wall time: 23.8 s\n"
     ]
    }
   ],
   "source": [
    "%%time\n",
    "train_targets = scipy.sparse.load_npz(\"../input/multimodal-single-cell-as-sparse-matrix/train_multi_targets_values.sparse.npz\")"
   ]
  },
  {
   "cell_type": "code",
   "execution_count": 7,
   "id": "b09622e2",
   "metadata": {
    "execution": {
     "iopub.execute_input": "2022-09-14T06:57:44.235496Z",
     "iopub.status.busy": "2022-09-14T06:57:44.234574Z",
     "iopub.status.idle": "2022-09-14T07:03:02.763657Z",
     "shell.execute_reply": "2022-09-14T07:03:02.762435Z"
    },
    "papermill": {
     "duration": 318.554552,
     "end_time": "2022-09-14T07:03:02.776801",
     "exception": false,
     "start_time": "2022-09-14T06:57:44.222249",
     "status": "completed"
    },
    "tags": []
   },
   "outputs": [
    {
     "name": "stdout",
     "output_type": "stream",
     "text": [
      "0.11779101\n",
      "CPU times: user 5min 21s, sys: 5.03 s, total: 5min 26s\n",
      "Wall time: 5min 18s\n"
     ]
    }
   ],
   "source": [
    "%%time\n",
    "pca2 = TruncatedSVD(n_components=128, random_state=42)\n",
    "train_target = pca2.fit_transform(train_targets)\n",
    "print(pca2.explained_variance_ratio_.sum())"
   ]
  },
  {
   "cell_type": "code",
   "execution_count": 8,
   "id": "e32c359d",
   "metadata": {
    "execution": {
     "iopub.execute_input": "2022-09-14T07:03:02.800543Z",
     "iopub.status.busy": "2022-09-14T07:03:02.800115Z",
     "iopub.status.idle": "2022-09-14T07:03:02.805379Z",
     "shell.execute_reply": "2022-09-14T07:03:02.804559Z"
    },
    "papermill": {
     "duration": 0.01949,
     "end_time": "2022-09-14T07:03:02.807535",
     "exception": false,
     "start_time": "2022-09-14T07:03:02.788045",
     "status": "completed"
    },
    "tags": []
   },
   "outputs": [],
   "source": [
    "def save(name, model):\n",
    "    with open(name, 'wb') as f:\n",
    "        pickle.dump(model, f)"
   ]
  },
  {
   "cell_type": "code",
   "execution_count": 9,
   "id": "4774406e",
   "metadata": {
    "execution": {
     "iopub.execute_input": "2022-09-14T07:03:02.831238Z",
     "iopub.status.busy": "2022-09-14T07:03:02.830142Z",
     "iopub.status.idle": "2022-09-14T07:03:03.867793Z",
     "shell.execute_reply": "2022-09-14T07:03:03.866807Z"
    },
    "papermill": {
     "duration": 1.052396,
     "end_time": "2022-09-14T07:03:03.870604",
     "exception": false,
     "start_time": "2022-09-14T07:03:02.818208",
     "status": "completed"
    },
    "tags": []
   },
   "outputs": [],
   "source": [
    "save('pca.pkl', pca)\n",
    "save('pca2.pkl', pca2)"
   ]
  },
  {
   "cell_type": "code",
   "execution_count": 10,
   "id": "c6e897b8",
   "metadata": {
    "execution": {
     "iopub.execute_input": "2022-09-14T07:03:03.894584Z",
     "iopub.status.busy": "2022-09-14T07:03:03.894177Z",
     "iopub.status.idle": "2022-09-14T07:03:04.453752Z",
     "shell.execute_reply": "2022-09-14T07:03:04.452542Z"
    },
    "papermill": {
     "duration": 0.575061,
     "end_time": "2022-09-14T07:03:04.456879",
     "exception": false,
     "start_time": "2022-09-14T07:03:03.881818",
     "status": "completed"
    },
    "tags": []
   },
   "outputs": [],
   "source": [
    "from catboost import CatBoostRegressor\n",
    "params = {'learning_rate': 0.1, \n",
    "          'depth': 7, \n",
    "          'l2_leaf_reg': 4, \n",
    "          'loss_function': 'MultiRMSE', \n",
    "          'eval_metric': 'MultiRMSE', \n",
    "          'task_type': 'CPU', \n",
    "          'iterations': 200,\n",
    "          'od_type': 'Iter', \n",
    "          'boosting_type': 'Plain', \n",
    "          'bootstrap_type': 'Bayesian', \n",
    "          'allow_const_label': True, \n",
    "          'random_state': 1\n",
    "         }\n",
    "model = CatBoostRegressor(**params)"
   ]
  },
  {
   "cell_type": "code",
   "execution_count": 11,
   "id": "adbfa124",
   "metadata": {
    "execution": {
     "iopub.execute_input": "2022-09-14T07:03:04.480562Z",
     "iopub.status.busy": "2022-09-14T07:03:04.479910Z",
     "iopub.status.idle": "2022-09-14T07:03:04.484462Z",
     "shell.execute_reply": "2022-09-14T07:03:04.483714Z"
    },
    "papermill": {
     "duration": 0.018902,
     "end_time": "2022-09-14T07:03:04.486632",
     "exception": false,
     "start_time": "2022-09-14T07:03:04.467730",
     "status": "completed"
    },
    "tags": []
   },
   "outputs": [],
   "source": [
    "n = 1"
   ]
  },
  {
   "cell_type": "code",
   "execution_count": 12,
   "id": "797f92c4",
   "metadata": {
    "execution": {
     "iopub.execute_input": "2022-09-14T07:03:04.510381Z",
     "iopub.status.busy": "2022-09-14T07:03:04.509738Z",
     "iopub.status.idle": "2022-09-14T12:48:16.226601Z",
     "shell.execute_reply": "2022-09-14T12:48:16.224803Z"
    },
    "papermill": {
     "duration": 20711.80725,
     "end_time": "2022-09-14T12:48:16.304631",
     "exception": false,
     "start_time": "2022-09-14T07:03:04.497381",
     "status": "completed"
    },
    "tags": []
   },
   "outputs": [
    {
     "name": "stdout",
     "output_type": "stream",
     "text": [
      "start [0:105942]\n",
      "Train...\n",
      "0:\tlearn: 74.4837457\ttotal: 21.9s\tremaining: 1h 12m 42s\n",
      "1:\tlearn: 72.3356217\ttotal: 40.7s\tremaining: 1h 7m 12s\n",
      "2:\tlearn: 70.4881701\ttotal: 59.9s\tremaining: 1h 5m 33s\n",
      "3:\tlearn: 68.7941270\ttotal: 1m 18s\tremaining: 1h 4m 30s\n",
      "4:\tlearn: 67.3404626\ttotal: 1m 38s\tremaining: 1h 3m 49s\n",
      "5:\tlearn: 65.9576768\ttotal: 1m 57s\tremaining: 1h 3m 10s\n",
      "6:\tlearn: 64.7607744\ttotal: 2m 15s\tremaining: 1h 2m 28s\n",
      "7:\tlearn: 63.7088748\ttotal: 2m 35s\tremaining: 1h 2m 6s\n",
      "8:\tlearn: 62.7753348\ttotal: 2m 54s\tremaining: 1h 1m 35s\n",
      "9:\tlearn: 61.9206851\ttotal: 3m 13s\tremaining: 1h 1m 16s\n",
      "10:\tlearn: 61.2032398\ttotal: 3m 32s\tremaining: 1h 54s\n",
      "11:\tlearn: 60.5609569\ttotal: 3m 51s\tremaining: 1h 25s\n",
      "12:\tlearn: 59.9598257\ttotal: 4m 12s\tremaining: 1h 27s\n",
      "13:\tlearn: 59.4175905\ttotal: 4m 30s\tremaining: 59m 58s\n",
      "14:\tlearn: 58.9458298\ttotal: 4m 50s\tremaining: 59m 39s\n",
      "15:\tlearn: 58.5225515\ttotal: 5m 9s\tremaining: 59m 14s\n",
      "16:\tlearn: 58.0944311\ttotal: 5m 27s\tremaining: 58m 49s\n",
      "17:\tlearn: 57.7122787\ttotal: 5m 47s\tremaining: 58m 29s\n",
      "18:\tlearn: 57.3654892\ttotal: 6m 5s\tremaining: 58m 4s\n",
      "19:\tlearn: 57.0391729\ttotal: 6m 25s\tremaining: 57m 46s\n",
      "20:\tlearn: 56.7137294\ttotal: 6m 44s\tremaining: 57m 25s\n",
      "21:\tlearn: 56.3992445\ttotal: 7m 3s\tremaining: 57m 3s\n",
      "22:\tlearn: 56.1234598\ttotal: 7m 22s\tremaining: 56m 43s\n",
      "23:\tlearn: 55.8653499\ttotal: 7m 41s\tremaining: 56m 21s\n",
      "24:\tlearn: 55.6226720\ttotal: 8m\tremaining: 56m 2s\n",
      "25:\tlearn: 55.3993583\ttotal: 8m 19s\tremaining: 55m 41s\n",
      "26:\tlearn: 55.1457219\ttotal: 8m 38s\tremaining: 55m 21s\n",
      "27:\tlearn: 54.9604600\ttotal: 8m 57s\tremaining: 55m 1s\n",
      "28:\tlearn: 54.7440588\ttotal: 9m 16s\tremaining: 54m 41s\n",
      "29:\tlearn: 54.5455042\ttotal: 9m 35s\tremaining: 54m 22s\n",
      "30:\tlearn: 54.3516981\ttotal: 9m 54s\tremaining: 54m 3s\n",
      "31:\tlearn: 54.1926285\ttotal: 10m 13s\tremaining: 53m 42s\n",
      "32:\tlearn: 54.0353799\ttotal: 10m 32s\tremaining: 53m 22s\n",
      "33:\tlearn: 53.8800557\ttotal: 10m 51s\tremaining: 53m 2s\n",
      "34:\tlearn: 53.7214697\ttotal: 11m 11s\tremaining: 52m 43s\n",
      "35:\tlearn: 53.5725521\ttotal: 11m 30s\tremaining: 52m 24s\n",
      "36:\tlearn: 53.4398657\ttotal: 11m 48s\tremaining: 52m 2s\n",
      "37:\tlearn: 53.2887294\ttotal: 12m 7s\tremaining: 51m 43s\n",
      "38:\tlearn: 53.1535519\ttotal: 12m 26s\tremaining: 51m 22s\n",
      "39:\tlearn: 53.0323379\ttotal: 12m 45s\tremaining: 51m 3s\n",
      "40:\tlearn: 52.9001417\ttotal: 13m 5s\tremaining: 50m 44s\n",
      "41:\tlearn: 52.7792501\ttotal: 13m 23s\tremaining: 50m 24s\n",
      "42:\tlearn: 52.6545774\ttotal: 13m 43s\tremaining: 50m 6s\n",
      "43:\tlearn: 52.5601229\ttotal: 14m 2s\tremaining: 49m 45s\n",
      "44:\tlearn: 52.4591052\ttotal: 14m 23s\tremaining: 49m 34s\n",
      "45:\tlearn: 52.3598754\ttotal: 14m 42s\tremaining: 49m 15s\n",
      "46:\tlearn: 52.2701920\ttotal: 15m 1s\tremaining: 48m 54s\n",
      "47:\tlearn: 52.1649959\ttotal: 15m 20s\tremaining: 48m 36s\n",
      "48:\tlearn: 52.0838991\ttotal: 15m 40s\tremaining: 48m 16s\n",
      "49:\tlearn: 52.0066033\ttotal: 15m 58s\tremaining: 47m 55s\n",
      "50:\tlearn: 51.9143023\ttotal: 16m 17s\tremaining: 47m 36s\n",
      "51:\tlearn: 51.8270541\ttotal: 16m 36s\tremaining: 47m 16s\n",
      "52:\tlearn: 51.7558858\ttotal: 16m 55s\tremaining: 46m 57s\n",
      "53:\tlearn: 51.6549393\ttotal: 17m 14s\tremaining: 46m 38s\n",
      "54:\tlearn: 51.5870739\ttotal: 17m 33s\tremaining: 46m 18s\n",
      "55:\tlearn: 51.5152618\ttotal: 17m 53s\tremaining: 45m 59s\n",
      "56:\tlearn: 51.4617387\ttotal: 18m 11s\tremaining: 45m 38s\n",
      "57:\tlearn: 51.3845228\ttotal: 18m 30s\tremaining: 45m 19s\n",
      "58:\tlearn: 51.3105636\ttotal: 18m 49s\tremaining: 44m 59s\n",
      "59:\tlearn: 51.2468306\ttotal: 19m 8s\tremaining: 44m 40s\n",
      "60:\tlearn: 51.1855562\ttotal: 19m 28s\tremaining: 44m 21s\n",
      "61:\tlearn: 51.1204721\ttotal: 19m 46s\tremaining: 44m 1s\n",
      "62:\tlearn: 51.0625565\ttotal: 20m 5s\tremaining: 43m 41s\n",
      "63:\tlearn: 51.0077159\ttotal: 20m 25s\tremaining: 43m 24s\n",
      "64:\tlearn: 50.9590568\ttotal: 20m 44s\tremaining: 43m 4s\n",
      "65:\tlearn: 50.9090933\ttotal: 21m 3s\tremaining: 42m 45s\n",
      "66:\tlearn: 50.8436671\ttotal: 21m 22s\tremaining: 42m 25s\n",
      "67:\tlearn: 50.7849819\ttotal: 21m 41s\tremaining: 42m 6s\n",
      "68:\tlearn: 50.7315055\ttotal: 22m\tremaining: 41m 47s\n",
      "69:\tlearn: 50.6862604\ttotal: 22m 19s\tremaining: 41m 26s\n",
      "70:\tlearn: 50.6224054\ttotal: 22m 38s\tremaining: 41m 8s\n",
      "71:\tlearn: 50.5640755\ttotal: 22m 57s\tremaining: 40m 48s\n",
      "72:\tlearn: 50.5147938\ttotal: 23m 16s\tremaining: 40m 29s\n",
      "73:\tlearn: 50.4828040\ttotal: 23m 35s\tremaining: 40m 9s\n",
      "74:\tlearn: 50.4248653\ttotal: 23m 54s\tremaining: 39m 50s\n",
      "75:\tlearn: 50.3732292\ttotal: 24m 13s\tremaining: 39m 30s\n",
      "76:\tlearn: 50.3200513\ttotal: 24m 31s\tremaining: 39m 11s\n",
      "77:\tlearn: 50.2749957\ttotal: 24m 50s\tremaining: 38m 51s\n",
      "78:\tlearn: 50.2331275\ttotal: 25m 9s\tremaining: 38m 32s\n",
      "79:\tlearn: 50.1977680\ttotal: 25m 28s\tremaining: 38m 13s\n",
      "80:\tlearn: 50.1546637\ttotal: 25m 47s\tremaining: 37m 53s\n",
      "81:\tlearn: 50.1137653\ttotal: 26m 6s\tremaining: 37m 33s\n",
      "82:\tlearn: 50.0804640\ttotal: 26m 25s\tremaining: 37m 14s\n",
      "83:\tlearn: 50.0509272\ttotal: 26m 45s\tremaining: 36m 56s\n",
      "84:\tlearn: 50.0071896\ttotal: 27m 6s\tremaining: 36m 39s\n",
      "85:\tlearn: 49.9676511\ttotal: 27m 26s\tremaining: 36m 23s\n",
      "86:\tlearn: 49.9260034\ttotal: 27m 47s\tremaining: 36m 5s\n",
      "87:\tlearn: 49.8965758\ttotal: 28m 8s\tremaining: 35m 48s\n",
      "88:\tlearn: 49.8539682\ttotal: 28m 28s\tremaining: 35m 31s\n",
      "89:\tlearn: 49.8306137\ttotal: 28m 49s\tremaining: 35m 13s\n",
      "90:\tlearn: 49.7846075\ttotal: 29m 10s\tremaining: 34m 56s\n",
      "91:\tlearn: 49.7566029\ttotal: 29m 30s\tremaining: 34m 38s\n",
      "92:\tlearn: 49.7216803\ttotal: 29m 51s\tremaining: 34m 20s\n",
      "93:\tlearn: 49.6894842\ttotal: 30m 11s\tremaining: 34m 3s\n",
      "94:\tlearn: 49.6607454\ttotal: 30m 32s\tremaining: 33m 45s\n",
      "95:\tlearn: 49.6249888\ttotal: 30m 52s\tremaining: 33m 27s\n",
      "96:\tlearn: 49.5878837\ttotal: 31m 13s\tremaining: 33m 9s\n",
      "97:\tlearn: 49.5625962\ttotal: 31m 33s\tremaining: 32m 51s\n",
      "98:\tlearn: 49.5426275\ttotal: 31m 53s\tremaining: 32m 32s\n",
      "99:\tlearn: 49.5124923\ttotal: 32m 14s\tremaining: 32m 14s\n",
      "100:\tlearn: 49.4854044\ttotal: 32m 34s\tremaining: 31m 55s\n",
      "101:\tlearn: 49.4533416\ttotal: 32m 55s\tremaining: 31m 37s\n",
      "102:\tlearn: 49.4309899\ttotal: 33m 15s\tremaining: 31m 19s\n",
      "103:\tlearn: 49.4008205\ttotal: 33m 35s\tremaining: 31m\n",
      "104:\tlearn: 49.3778113\ttotal: 33m 55s\tremaining: 30m 41s\n",
      "105:\tlearn: 49.3406795\ttotal: 34m 16s\tremaining: 30m 23s\n",
      "106:\tlearn: 49.3104114\ttotal: 34m 36s\tremaining: 30m 4s\n",
      "107:\tlearn: 49.2814579\ttotal: 34m 57s\tremaining: 29m 46s\n",
      "108:\tlearn: 49.2576469\ttotal: 35m 17s\tremaining: 29m 27s\n",
      "109:\tlearn: 49.2262340\ttotal: 35m 37s\tremaining: 29m 8s\n",
      "110:\tlearn: 49.1948675\ttotal: 35m 57s\tremaining: 28m 50s\n",
      "111:\tlearn: 49.1696928\ttotal: 36m 18s\tremaining: 28m 31s\n",
      "112:\tlearn: 49.1505630\ttotal: 36m 38s\tremaining: 28m 12s\n",
      "113:\tlearn: 49.1260649\ttotal: 36m 58s\tremaining: 27m 53s\n",
      "114:\tlearn: 49.1035579\ttotal: 37m 18s\tremaining: 27m 34s\n",
      "115:\tlearn: 49.0821949\ttotal: 37m 38s\tremaining: 27m 15s\n",
      "116:\tlearn: 49.0566604\ttotal: 37m 58s\tremaining: 26m 56s\n",
      "117:\tlearn: 49.0367314\ttotal: 38m 18s\tremaining: 26m 37s\n",
      "118:\tlearn: 49.0103640\ttotal: 38m 39s\tremaining: 26m 18s\n",
      "119:\tlearn: 48.9907125\ttotal: 38m 59s\tremaining: 25m 59s\n",
      "120:\tlearn: 48.9627297\ttotal: 39m 20s\tremaining: 25m 40s\n",
      "121:\tlearn: 48.9396815\ttotal: 39m 40s\tremaining: 25m 22s\n",
      "122:\tlearn: 48.9054307\ttotal: 40m 1s\tremaining: 25m 3s\n",
      "123:\tlearn: 48.8836579\ttotal: 40m 21s\tremaining: 24m 43s\n",
      "124:\tlearn: 48.8601517\ttotal: 40m 41s\tremaining: 24m 25s\n",
      "125:\tlearn: 48.8326844\ttotal: 41m 1s\tremaining: 24m 5s\n",
      "126:\tlearn: 48.8060896\ttotal: 41m 22s\tremaining: 23m 46s\n",
      "127:\tlearn: 48.7856534\ttotal: 41m 43s\tremaining: 23m 27s\n",
      "128:\tlearn: 48.7600446\ttotal: 42m 2s\tremaining: 23m 8s\n",
      "129:\tlearn: 48.7391318\ttotal: 42m 23s\tremaining: 22m 49s\n",
      "130:\tlearn: 48.7212935\ttotal: 42m 43s\tremaining: 22m 30s\n",
      "131:\tlearn: 48.6990005\ttotal: 43m 3s\tremaining: 22m 11s\n",
      "132:\tlearn: 48.6747527\ttotal: 43m 24s\tremaining: 21m 51s\n",
      "133:\tlearn: 48.6483906\ttotal: 43m 44s\tremaining: 21m 32s\n",
      "134:\tlearn: 48.6284597\ttotal: 44m 4s\tremaining: 21m 13s\n",
      "135:\tlearn: 48.6029749\ttotal: 44m 26s\tremaining: 20m 54s\n",
      "136:\tlearn: 48.5830028\ttotal: 44m 46s\tremaining: 20m 35s\n",
      "137:\tlearn: 48.5616819\ttotal: 45m 6s\tremaining: 20m 16s\n",
      "138:\tlearn: 48.5417106\ttotal: 45m 27s\tremaining: 19m 56s\n",
      "139:\tlearn: 48.5140897\ttotal: 45m 47s\tremaining: 19m 37s\n",
      "140:\tlearn: 48.4951768\ttotal: 46m 7s\tremaining: 19m 18s\n",
      "141:\tlearn: 48.4708102\ttotal: 46m 27s\tremaining: 18m 58s\n",
      "142:\tlearn: 48.4453031\ttotal: 46m 48s\tremaining: 18m 39s\n",
      "143:\tlearn: 48.4233730\ttotal: 47m 8s\tremaining: 18m 20s\n",
      "144:\tlearn: 48.3986447\ttotal: 47m 29s\tremaining: 18m\n",
      "145:\tlearn: 48.3772304\ttotal: 47m 49s\tremaining: 17m 41s\n",
      "146:\tlearn: 48.3603318\ttotal: 48m 9s\tremaining: 17m 21s\n",
      "147:\tlearn: 48.3386332\ttotal: 48m 30s\tremaining: 17m 2s\n",
      "148:\tlearn: 48.3194496\ttotal: 48m 50s\tremaining: 16m 43s\n",
      "149:\tlearn: 48.3000358\ttotal: 49m 10s\tremaining: 16m 23s\n",
      "150:\tlearn: 48.2848978\ttotal: 49m 30s\tremaining: 16m 4s\n",
      "151:\tlearn: 48.2678686\ttotal: 49m 51s\tremaining: 15m 44s\n",
      "152:\tlearn: 48.2493743\ttotal: 50m 11s\tremaining: 15m 25s\n",
      "153:\tlearn: 48.2246475\ttotal: 50m 32s\tremaining: 15m 5s\n",
      "154:\tlearn: 48.2075618\ttotal: 50m 52s\tremaining: 14m 46s\n",
      "155:\tlearn: 48.1821185\ttotal: 51m 12s\tremaining: 14m 26s\n",
      "156:\tlearn: 48.1638049\ttotal: 51m 32s\tremaining: 14m 7s\n",
      "157:\tlearn: 48.1488339\ttotal: 51m 53s\tremaining: 13m 47s\n",
      "158:\tlearn: 48.1345692\ttotal: 52m 13s\tremaining: 13m 27s\n",
      "159:\tlearn: 48.1129135\ttotal: 52m 33s\tremaining: 13m 8s\n",
      "160:\tlearn: 48.0966869\ttotal: 52m 53s\tremaining: 12m 48s\n",
      "161:\tlearn: 48.0810305\ttotal: 53m 13s\tremaining: 12m 29s\n",
      "162:\tlearn: 48.0621780\ttotal: 53m 34s\tremaining: 12m 9s\n",
      "163:\tlearn: 48.0481114\ttotal: 53m 54s\tremaining: 11m 49s\n",
      "164:\tlearn: 48.0325291\ttotal: 54m 14s\tremaining: 11m 30s\n",
      "165:\tlearn: 48.0191011\ttotal: 54m 34s\tremaining: 11m 10s\n",
      "166:\tlearn: 48.0021405\ttotal: 54m 54s\tremaining: 10m 51s\n",
      "167:\tlearn: 47.9924669\ttotal: 55m 14s\tremaining: 10m 31s\n",
      "168:\tlearn: 47.9783385\ttotal: 55m 34s\tremaining: 10m 11s\n",
      "169:\tlearn: 47.9624688\ttotal: 55m 54s\tremaining: 9m 51s\n",
      "170:\tlearn: 47.9488189\ttotal: 56m 14s\tremaining: 9m 32s\n",
      "171:\tlearn: 47.9306811\ttotal: 56m 35s\tremaining: 9m 12s\n",
      "172:\tlearn: 47.9166707\ttotal: 56m 55s\tremaining: 8m 53s\n",
      "173:\tlearn: 47.8999721\ttotal: 57m 15s\tremaining: 8m 33s\n",
      "174:\tlearn: 47.8832371\ttotal: 57m 35s\tremaining: 8m 13s\n",
      "175:\tlearn: 47.8714362\ttotal: 57m 55s\tremaining: 7m 53s\n",
      "176:\tlearn: 47.8585467\ttotal: 58m 16s\tremaining: 7m 34s\n",
      "177:\tlearn: 47.8389528\ttotal: 58m 36s\tremaining: 7m 14s\n",
      "178:\tlearn: 47.8276938\ttotal: 58m 56s\tremaining: 6m 54s\n",
      "179:\tlearn: 47.8104727\ttotal: 59m 17s\tremaining: 6m 35s\n",
      "180:\tlearn: 47.7967793\ttotal: 59m 37s\tremaining: 6m 15s\n",
      "181:\tlearn: 47.7842667\ttotal: 59m 57s\tremaining: 5m 55s\n",
      "182:\tlearn: 47.7718239\ttotal: 1h 18s\tremaining: 5m 36s\n",
      "183:\tlearn: 47.7578656\ttotal: 1h 38s\tremaining: 5m 16s\n",
      "184:\tlearn: 47.7449350\ttotal: 1h 58s\tremaining: 4m 56s\n",
      "185:\tlearn: 47.7291007\ttotal: 1h 1m 19s\tremaining: 4m 36s\n",
      "186:\tlearn: 47.7174670\ttotal: 1h 1m 39s\tremaining: 4m 17s\n",
      "187:\tlearn: 47.7040715\ttotal: 1h 1m 59s\tremaining: 3m 57s\n",
      "188:\tlearn: 47.6913730\ttotal: 1h 2m 19s\tremaining: 3m 37s\n",
      "189:\tlearn: 47.6765151\ttotal: 1h 2m 40s\tremaining: 3m 17s\n",
      "190:\tlearn: 47.6649679\ttotal: 1h 3m\tremaining: 2m 58s\n",
      "191:\tlearn: 47.6535814\ttotal: 1h 3m 20s\tremaining: 2m 38s\n",
      "192:\tlearn: 47.6414983\ttotal: 1h 3m 40s\tremaining: 2m 18s\n",
      "193:\tlearn: 47.6284767\ttotal: 1h 4m 1s\tremaining: 1m 58s\n",
      "194:\tlearn: 47.6111004\ttotal: 1h 4m 21s\tremaining: 1m 39s\n",
      "195:\tlearn: 47.5991868\ttotal: 1h 4m 41s\tremaining: 1m 19s\n",
      "196:\tlearn: 47.5875102\ttotal: 1h 5m 1s\tremaining: 59.4s\n",
      "197:\tlearn: 47.5749734\ttotal: 1h 5m 21s\tremaining: 39.6s\n",
      "198:\tlearn: 47.5626349\ttotal: 1h 5m 42s\tremaining: 19.8s\n",
      "199:\tlearn: 47.5503844\ttotal: 1h 6m 2s\tremaining: 0us\n",
      "0 0.6683427933651053\n",
      "Train...\n",
      "0:\tlearn: 74.4830332\ttotal: 20.7s\tremaining: 1h 8m 30s\n",
      "1:\tlearn: 72.3985753\ttotal: 41.4s\tremaining: 1h 8m 15s\n",
      "2:\tlearn: 70.5169359\ttotal: 1m 1s\tremaining: 1h 7m 20s\n",
      "3:\tlearn: 68.8492657\ttotal: 1m 22s\tremaining: 1h 7m 8s\n",
      "4:\tlearn: 67.4122811\ttotal: 1m 42s\tremaining: 1h 6m 51s\n",
      "5:\tlearn: 66.1275285\ttotal: 2m 3s\tremaining: 1h 6m 26s\n",
      "6:\tlearn: 64.9014366\ttotal: 2m 24s\tremaining: 1h 6m 20s\n",
      "7:\tlearn: 63.8613795\ttotal: 2m 44s\tremaining: 1h 5m 59s\n",
      "8:\tlearn: 62.9053101\ttotal: 3m 5s\tremaining: 1h 5m 32s\n",
      "9:\tlearn: 62.0572708\ttotal: 3m 25s\tremaining: 1h 5m 11s\n",
      "10:\tlearn: 61.3428951\ttotal: 3m 46s\tremaining: 1h 4m 52s\n",
      "11:\tlearn: 60.6814947\ttotal: 4m 6s\tremaining: 1h 4m 26s\n",
      "12:\tlearn: 60.0520585\ttotal: 4m 27s\tremaining: 1h 4m 7s\n",
      "13:\tlearn: 59.5237698\ttotal: 4m 47s\tremaining: 1h 3m 39s\n",
      "14:\tlearn: 59.0424224\ttotal: 5m 7s\tremaining: 1h 3m 18s\n",
      "15:\tlearn: 58.6371723\ttotal: 5m 27s\tremaining: 1h 2m 51s\n",
      "16:\tlearn: 58.1754412\ttotal: 5m 48s\tremaining: 1h 2m 31s\n",
      "17:\tlearn: 57.8041805\ttotal: 6m 12s\tremaining: 1h 2m 42s\n",
      "18:\tlearn: 57.4548556\ttotal: 6m 32s\tremaining: 1h 2m 22s\n",
      "19:\tlearn: 57.0917473\ttotal: 6m 53s\tremaining: 1h 1m 59s\n",
      "20:\tlearn: 56.7729459\ttotal: 7m 14s\tremaining: 1h 1m 39s\n",
      "21:\tlearn: 56.4774035\ttotal: 7m 34s\tremaining: 1h 1m 17s\n",
      "22:\tlearn: 56.1823336\ttotal: 7m 54s\tremaining: 1h 54s\n",
      "23:\tlearn: 55.9105358\ttotal: 8m 15s\tremaining: 1h 34s\n",
      "24:\tlearn: 55.6410636\ttotal: 8m 36s\tremaining: 1h 14s\n",
      "25:\tlearn: 55.4085571\ttotal: 8m 56s\tremaining: 59m 50s\n",
      "26:\tlearn: 55.1717025\ttotal: 9m 17s\tremaining: 59m 31s\n",
      "27:\tlearn: 54.9670482\ttotal: 9m 38s\tremaining: 59m 11s\n",
      "28:\tlearn: 54.7814779\ttotal: 9m 58s\tremaining: 58m 49s\n",
      "29:\tlearn: 54.6002850\ttotal: 10m 22s\tremaining: 58m 47s\n",
      "30:\tlearn: 54.4195117\ttotal: 10m 43s\tremaining: 58m 25s\n",
      "31:\tlearn: 54.2225753\ttotal: 11m 3s\tremaining: 58m 3s\n",
      "32:\tlearn: 54.0650159\ttotal: 11m 24s\tremaining: 57m 42s\n",
      "33:\tlearn: 53.9040975\ttotal: 11m 44s\tremaining: 57m 21s\n",
      "34:\tlearn: 53.7487078\ttotal: 12m 5s\tremaining: 57m\n",
      "35:\tlearn: 53.6130588\ttotal: 12m 26s\tremaining: 56m 39s\n",
      "36:\tlearn: 53.4650391\ttotal: 12m 46s\tremaining: 56m 16s\n",
      "37:\tlearn: 53.3337039\ttotal: 13m 6s\tremaining: 55m 53s\n",
      "38:\tlearn: 53.2040237\ttotal: 13m 27s\tremaining: 55m 32s\n",
      "39:\tlearn: 53.0867505\ttotal: 13m 47s\tremaining: 55m 10s\n",
      "40:\tlearn: 52.9779801\ttotal: 14m 8s\tremaining: 54m 49s\n",
      "41:\tlearn: 52.8585168\ttotal: 14m 29s\tremaining: 54m 29s\n",
      "42:\tlearn: 52.7246292\ttotal: 14m 49s\tremaining: 54m 8s\n",
      "43:\tlearn: 52.6232954\ttotal: 15m 9s\tremaining: 53m 46s\n",
      "44:\tlearn: 52.5166824\ttotal: 15m 30s\tremaining: 53m 25s\n",
      "45:\tlearn: 52.4134629\ttotal: 15m 50s\tremaining: 53m 2s\n",
      "46:\tlearn: 52.3171874\ttotal: 16m 11s\tremaining: 52m 42s\n",
      "47:\tlearn: 52.2266281\ttotal: 16m 32s\tremaining: 52m 22s\n",
      "48:\tlearn: 52.1437111\ttotal: 16m 52s\tremaining: 52m\n",
      "49:\tlearn: 52.0589267\ttotal: 17m 13s\tremaining: 51m 39s\n",
      "50:\tlearn: 51.9761749\ttotal: 17m 33s\tremaining: 51m 17s\n",
      "51:\tlearn: 51.8964624\ttotal: 17m 53s\tremaining: 50m 56s\n",
      "52:\tlearn: 51.8216889\ttotal: 18m 14s\tremaining: 50m 34s\n",
      "53:\tlearn: 51.7491372\ttotal: 18m 34s\tremaining: 50m 12s\n",
      "54:\tlearn: 51.6777013\ttotal: 18m 55s\tremaining: 49m 52s\n",
      "55:\tlearn: 51.5895008\ttotal: 19m 15s\tremaining: 49m 32s\n",
      "56:\tlearn: 51.5012145\ttotal: 19m 36s\tremaining: 49m 10s\n",
      "57:\tlearn: 51.4342518\ttotal: 19m 57s\tremaining: 48m 50s\n",
      "58:\tlearn: 51.3568680\ttotal: 20m 17s\tremaining: 48m 30s\n",
      "59:\tlearn: 51.2727405\ttotal: 20m 38s\tremaining: 48m 9s\n",
      "60:\tlearn: 51.2058287\ttotal: 20m 59s\tremaining: 47m 50s\n",
      "61:\tlearn: 51.1482396\ttotal: 21m 20s\tremaining: 47m 29s\n",
      "62:\tlearn: 51.0890690\ttotal: 21m 40s\tremaining: 47m 7s\n",
      "63:\tlearn: 51.0233082\ttotal: 22m 1s\tremaining: 46m 47s\n",
      "64:\tlearn: 50.9639900\ttotal: 22m 22s\tremaining: 46m 27s\n",
      "65:\tlearn: 50.9122566\ttotal: 22m 42s\tremaining: 46m 5s\n",
      "66:\tlearn: 50.8566937\ttotal: 23m 2s\tremaining: 45m 44s\n",
      "67:\tlearn: 50.8069674\ttotal: 23m 23s\tremaining: 45m 23s\n",
      "68:\tlearn: 50.7499424\ttotal: 23m 43s\tremaining: 45m 2s\n",
      "69:\tlearn: 50.7003123\ttotal: 24m 4s\tremaining: 44m 41s\n",
      "70:\tlearn: 50.6490999\ttotal: 24m 24s\tremaining: 44m 20s\n",
      "71:\tlearn: 50.5995916\ttotal: 24m 44s\tremaining: 43m 59s\n",
      "72:\tlearn: 50.5483223\ttotal: 25m 5s\tremaining: 43m 39s\n",
      "73:\tlearn: 50.5130325\ttotal: 25m 25s\tremaining: 43m 17s\n",
      "74:\tlearn: 50.4701894\ttotal: 25m 46s\tremaining: 42m 57s\n",
      "75:\tlearn: 50.4060938\ttotal: 26m 6s\tremaining: 42m 36s\n",
      "76:\tlearn: 50.3709996\ttotal: 26m 26s\tremaining: 42m 14s\n",
      "77:\tlearn: 50.3302187\ttotal: 26m 47s\tremaining: 41m 54s\n",
      "78:\tlearn: 50.2948614\ttotal: 27m 7s\tremaining: 41m 33s\n",
      "79:\tlearn: 50.2553189\ttotal: 27m 28s\tremaining: 41m 12s\n",
      "80:\tlearn: 50.2224746\ttotal: 27m 48s\tremaining: 40m 51s\n",
      "81:\tlearn: 50.1806626\ttotal: 28m 9s\tremaining: 40m 31s\n",
      "82:\tlearn: 50.1281393\ttotal: 28m 29s\tremaining: 40m 10s\n",
      "83:\tlearn: 50.0986349\ttotal: 28m 50s\tremaining: 39m 49s\n",
      "84:\tlearn: 50.0615089\ttotal: 29m 10s\tremaining: 39m 28s\n",
      "85:\tlearn: 50.0193368\ttotal: 29m 31s\tremaining: 39m 8s\n",
      "86:\tlearn: 49.9815912\ttotal: 29m 51s\tremaining: 38m 47s\n",
      "87:\tlearn: 49.9525876\ttotal: 30m 12s\tremaining: 38m 27s\n",
      "88:\tlearn: 49.9122495\ttotal: 30m 33s\tremaining: 38m 6s\n",
      "89:\tlearn: 49.8852277\ttotal: 30m 54s\tremaining: 37m 46s\n",
      "90:\tlearn: 49.8390080\ttotal: 31m 14s\tremaining: 37m 25s\n",
      "91:\tlearn: 49.8084544\ttotal: 31m 35s\tremaining: 37m 4s\n",
      "92:\tlearn: 49.7804573\ttotal: 31m 55s\tremaining: 36m 44s\n",
      "93:\tlearn: 49.7510582\ttotal: 32m 15s\tremaining: 36m 22s\n",
      "94:\tlearn: 49.7082929\ttotal: 32m 36s\tremaining: 36m 2s\n",
      "95:\tlearn: 49.6738093\ttotal: 32m 56s\tremaining: 35m 41s\n",
      "96:\tlearn: 49.6412098\ttotal: 33m 16s\tremaining: 35m 20s\n",
      "97:\tlearn: 49.6143275\ttotal: 33m 37s\tremaining: 34m 59s\n",
      "98:\tlearn: 49.5908484\ttotal: 33m 57s\tremaining: 34m 38s\n",
      "99:\tlearn: 49.5682407\ttotal: 34m 17s\tremaining: 34m 17s\n",
      "100:\tlearn: 49.5405989\ttotal: 34m 38s\tremaining: 33m 56s\n",
      "101:\tlearn: 49.5144485\ttotal: 34m 57s\tremaining: 33m 35s\n",
      "102:\tlearn: 49.4901968\ttotal: 35m 18s\tremaining: 33m 15s\n",
      "103:\tlearn: 49.4658151\ttotal: 35m 38s\tremaining: 32m 54s\n",
      "104:\tlearn: 49.4454027\ttotal: 35m 58s\tremaining: 32m 33s\n",
      "105:\tlearn: 49.4201516\ttotal: 36m 19s\tremaining: 32m 12s\n",
      "106:\tlearn: 49.3828612\ttotal: 36m 39s\tremaining: 31m 52s\n",
      "107:\tlearn: 49.3615034\ttotal: 36m 59s\tremaining: 31m 30s\n",
      "108:\tlearn: 49.3322287\ttotal: 37m 20s\tremaining: 31m 10s\n",
      "109:\tlearn: 49.3039881\ttotal: 37m 40s\tremaining: 30m 49s\n",
      "110:\tlearn: 49.2661210\ttotal: 38m\tremaining: 30m 28s\n",
      "111:\tlearn: 49.2412905\ttotal: 38m 21s\tremaining: 30m 8s\n",
      "112:\tlearn: 49.2171513\ttotal: 38m 41s\tremaining: 29m 47s\n",
      "113:\tlearn: 49.1800089\ttotal: 39m 2s\tremaining: 29m 27s\n",
      "114:\tlearn: 49.1443421\ttotal: 39m 23s\tremaining: 29m 6s\n",
      "115:\tlearn: 49.1213898\ttotal: 39m 43s\tremaining: 28m 45s\n",
      "116:\tlearn: 49.0998537\ttotal: 40m 3s\tremaining: 28m 24s\n",
      "117:\tlearn: 49.0754161\ttotal: 40m 23s\tremaining: 28m 4s\n",
      "118:\tlearn: 49.0542408\ttotal: 40m 44s\tremaining: 27m 43s\n",
      "119:\tlearn: 49.0336936\ttotal: 41m 4s\tremaining: 27m 22s\n",
      "120:\tlearn: 49.0088745\ttotal: 41m 24s\tremaining: 27m 2s\n",
      "121:\tlearn: 48.9850794\ttotal: 41m 44s\tremaining: 26m 41s\n",
      "122:\tlearn: 48.9612442\ttotal: 42m 5s\tremaining: 26m 20s\n",
      "123:\tlearn: 48.9360838\ttotal: 42m 25s\tremaining: 26m\n",
      "124:\tlearn: 48.9079021\ttotal: 42m 46s\tremaining: 25m 39s\n",
      "125:\tlearn: 48.8851453\ttotal: 43m 6s\tremaining: 25m 19s\n",
      "126:\tlearn: 48.8604750\ttotal: 43m 26s\tremaining: 24m 58s\n",
      "127:\tlearn: 48.8405552\ttotal: 43m 47s\tremaining: 24m 37s\n",
      "128:\tlearn: 48.8224496\ttotal: 44m 7s\tremaining: 24m 16s\n",
      "129:\tlearn: 48.7930483\ttotal: 44m 27s\tremaining: 23m 56s\n",
      "130:\tlearn: 48.7738603\ttotal: 44m 47s\tremaining: 23m 35s\n",
      "131:\tlearn: 48.7523748\ttotal: 45m 7s\tremaining: 23m 14s\n",
      "132:\tlearn: 48.7246701\ttotal: 45m 28s\tremaining: 22m 54s\n",
      "133:\tlearn: 48.6986251\ttotal: 45m 48s\tremaining: 22m 33s\n",
      "134:\tlearn: 48.6713756\ttotal: 46m 9s\tremaining: 22m 13s\n",
      "135:\tlearn: 48.6486958\ttotal: 46m 29s\tremaining: 21m 52s\n",
      "136:\tlearn: 48.6266868\ttotal: 46m 49s\tremaining: 21m 32s\n",
      "137:\tlearn: 48.6069098\ttotal: 47m 10s\tremaining: 21m 11s\n",
      "138:\tlearn: 48.5892250\ttotal: 47m 30s\tremaining: 20m 50s\n",
      "139:\tlearn: 48.5677019\ttotal: 47m 50s\tremaining: 20m 30s\n",
      "140:\tlearn: 48.5511530\ttotal: 48m 10s\tremaining: 20m 9s\n",
      "141:\tlearn: 48.5256445\ttotal: 48m 31s\tremaining: 19m 49s\n",
      "142:\tlearn: 48.5101750\ttotal: 48m 51s\tremaining: 19m 28s\n",
      "143:\tlearn: 48.4915959\ttotal: 49m 11s\tremaining: 19m 7s\n",
      "144:\tlearn: 48.4728348\ttotal: 49m 32s\tremaining: 18m 47s\n",
      "145:\tlearn: 48.4533382\ttotal: 49m 52s\tremaining: 18m 26s\n",
      "146:\tlearn: 48.4312855\ttotal: 50m 13s\tremaining: 18m 6s\n",
      "147:\tlearn: 48.4108809\ttotal: 50m 33s\tremaining: 17m 45s\n",
      "148:\tlearn: 48.3920278\ttotal: 50m 54s\tremaining: 17m 25s\n",
      "149:\tlearn: 48.3768721\ttotal: 51m 14s\tremaining: 17m 4s\n",
      "150:\tlearn: 48.3592998\ttotal: 51m 34s\tremaining: 16m 44s\n",
      "151:\tlearn: 48.3300819\ttotal: 51m 55s\tremaining: 16m 23s\n",
      "152:\tlearn: 48.3095889\ttotal: 52m 16s\tremaining: 16m 3s\n",
      "153:\tlearn: 48.2881202\ttotal: 52m 36s\tremaining: 15m 42s\n",
      "154:\tlearn: 48.2710288\ttotal: 52m 56s\tremaining: 15m 22s\n",
      "155:\tlearn: 48.2485431\ttotal: 53m 17s\tremaining: 15m 1s\n",
      "156:\tlearn: 48.2335216\ttotal: 53m 38s\tremaining: 14m 41s\n",
      "157:\tlearn: 48.2153941\ttotal: 53m 58s\tremaining: 14m 20s\n",
      "158:\tlearn: 48.1971898\ttotal: 54m 19s\tremaining: 14m\n",
      "159:\tlearn: 48.1821125\ttotal: 54m 39s\tremaining: 13m 39s\n",
      "160:\tlearn: 48.1635605\ttotal: 54m 59s\tremaining: 13m 19s\n",
      "161:\tlearn: 48.1478046\ttotal: 55m 19s\tremaining: 12m 58s\n",
      "162:\tlearn: 48.1333380\ttotal: 55m 39s\tremaining: 12m 38s\n",
      "163:\tlearn: 48.1153427\ttotal: 56m\tremaining: 12m 17s\n",
      "164:\tlearn: 48.0986450\ttotal: 56m 20s\tremaining: 11m 57s\n",
      "165:\tlearn: 48.0838121\ttotal: 56m 40s\tremaining: 11m 36s\n",
      "166:\tlearn: 48.0687504\ttotal: 57m 1s\tremaining: 11m 16s\n",
      "167:\tlearn: 48.0548211\ttotal: 57m 21s\tremaining: 10m 55s\n",
      "168:\tlearn: 48.0334210\ttotal: 57m 42s\tremaining: 10m 35s\n",
      "169:\tlearn: 48.0183971\ttotal: 58m 2s\tremaining: 10m 14s\n",
      "170:\tlearn: 48.0036071\ttotal: 58m 22s\tremaining: 9m 54s\n",
      "171:\tlearn: 47.9882588\ttotal: 58m 42s\tremaining: 9m 33s\n",
      "172:\tlearn: 47.9660643\ttotal: 59m 3s\tremaining: 9m 13s\n",
      "173:\tlearn: 47.9531224\ttotal: 59m 23s\tremaining: 8m 52s\n",
      "174:\tlearn: 47.9309144\ttotal: 59m 44s\tremaining: 8m 32s\n",
      "175:\tlearn: 47.9162404\ttotal: 1h 5s\tremaining: 8m 11s\n",
      "176:\tlearn: 47.8991750\ttotal: 1h 25s\tremaining: 7m 51s\n",
      "177:\tlearn: 47.8837971\ttotal: 1h 46s\tremaining: 7m 30s\n",
      "178:\tlearn: 47.8686788\ttotal: 1h 1m 6s\tremaining: 7m 10s\n",
      "179:\tlearn: 47.8549125\ttotal: 1h 1m 26s\tremaining: 6m 49s\n",
      "180:\tlearn: 47.8378047\ttotal: 1h 1m 46s\tremaining: 6m 29s\n",
      "181:\tlearn: 47.8251576\ttotal: 1h 2m 7s\tremaining: 6m 8s\n",
      "182:\tlearn: 47.8103108\ttotal: 1h 2m 27s\tremaining: 5m 48s\n",
      "183:\tlearn: 47.7958352\ttotal: 1h 2m 47s\tremaining: 5m 27s\n",
      "184:\tlearn: 47.7819985\ttotal: 1h 3m 8s\tremaining: 5m 7s\n",
      "185:\tlearn: 47.7681091\ttotal: 1h 3m 28s\tremaining: 4m 46s\n",
      "186:\tlearn: 47.7552247\ttotal: 1h 3m 49s\tremaining: 4m 26s\n",
      "187:\tlearn: 47.7402464\ttotal: 1h 4m 9s\tremaining: 4m 5s\n",
      "188:\tlearn: 47.7269692\ttotal: 1h 4m 29s\tremaining: 3m 45s\n",
      "189:\tlearn: 47.7163844\ttotal: 1h 4m 49s\tremaining: 3m 24s\n",
      "190:\tlearn: 47.6991581\ttotal: 1h 5m 9s\tremaining: 3m 4s\n",
      "191:\tlearn: 47.6866496\ttotal: 1h 5m 29s\tremaining: 2m 43s\n",
      "192:\tlearn: 47.6706873\ttotal: 1h 5m 50s\tremaining: 2m 23s\n",
      "193:\tlearn: 47.6574904\ttotal: 1h 6m 10s\tremaining: 2m 2s\n",
      "194:\tlearn: 47.6377670\ttotal: 1h 6m 31s\tremaining: 1m 42s\n",
      "195:\tlearn: 47.6240955\ttotal: 1h 6m 52s\tremaining: 1m 21s\n",
      "196:\tlearn: 47.6110899\ttotal: 1h 7m 12s\tremaining: 1m 1s\n",
      "197:\tlearn: 47.5999519\ttotal: 1h 7m 32s\tremaining: 40.9s\n",
      "198:\tlearn: 47.5883762\ttotal: 1h 7m 52s\tremaining: 20.5s\n",
      "199:\tlearn: 47.5764106\ttotal: 1h 8m 12s\tremaining: 0us\n",
      "1 0.6684212506618523\n",
      "Train...\n",
      "0:\tlearn: 74.4675653\ttotal: 20.6s\tremaining: 1h 8m 9s\n",
      "1:\tlearn: 72.3962006\ttotal: 40.9s\tremaining: 1h 7m 33s\n",
      "2:\tlearn: 70.5297958\ttotal: 1m 1s\tremaining: 1h 7m 35s\n",
      "3:\tlearn: 68.8392153\ttotal: 1m 22s\tremaining: 1h 7m 17s\n",
      "4:\tlearn: 67.3212372\ttotal: 1m 43s\tremaining: 1h 6m 57s\n",
      "5:\tlearn: 66.0475564\ttotal: 2m 3s\tremaining: 1h 6m 48s\n",
      "6:\tlearn: 64.8064098\ttotal: 2m 24s\tremaining: 1h 6m 24s\n",
      "7:\tlearn: 63.7372962\ttotal: 2m 45s\tremaining: 1h 6m 7s\n",
      "8:\tlearn: 62.8070010\ttotal: 3m 6s\tremaining: 1h 5m 49s\n",
      "9:\tlearn: 61.9658615\ttotal: 3m 26s\tremaining: 1h 5m 24s\n",
      "10:\tlearn: 61.2251186\ttotal: 3m 47s\tremaining: 1h 5m 4s\n",
      "11:\tlearn: 60.5565124\ttotal: 4m 7s\tremaining: 1h 4m 39s\n",
      "12:\tlearn: 59.9803753\ttotal: 4m 28s\tremaining: 1h 4m 17s\n",
      "13:\tlearn: 59.4428494\ttotal: 4m 48s\tremaining: 1h 3m 55s\n",
      "14:\tlearn: 58.9892242\ttotal: 5m 9s\tremaining: 1h 3m 34s\n",
      "15:\tlearn: 58.5176177\ttotal: 5m 31s\tremaining: 1h 3m 33s\n",
      "16:\tlearn: 58.1037884\ttotal: 5m 52s\tremaining: 1h 3m 14s\n",
      "17:\tlearn: 57.7284263\ttotal: 6m 12s\tremaining: 1h 2m 51s\n",
      "18:\tlearn: 57.3775093\ttotal: 6m 33s\tremaining: 1h 2m 29s\n",
      "19:\tlearn: 57.0254731\ttotal: 6m 54s\tremaining: 1h 2m 10s\n",
      "20:\tlearn: 56.6906350\ttotal: 7m 15s\tremaining: 1h 1m 49s\n",
      "21:\tlearn: 56.3893663\ttotal: 7m 34s\tremaining: 1h 1m 21s\n",
      "22:\tlearn: 56.1310026\ttotal: 7m 55s\tremaining: 1h 59s\n",
      "23:\tlearn: 55.8732254\ttotal: 8m 16s\tremaining: 1h 38s\n",
      "24:\tlearn: 55.6040531\ttotal: 8m 36s\tremaining: 1h 16s\n",
      "25:\tlearn: 55.3700841\ttotal: 8m 57s\tremaining: 59m 56s\n",
      "26:\tlearn: 55.1626794\ttotal: 9m 17s\tremaining: 59m 32s\n",
      "27:\tlearn: 54.9555507\ttotal: 9m 38s\tremaining: 59m 14s\n",
      "28:\tlearn: 54.7338440\ttotal: 10m 8s\tremaining: 59m 46s\n",
      "29:\tlearn: 54.5487693\ttotal: 10m 28s\tremaining: 59m 23s\n",
      "30:\tlearn: 54.3685450\ttotal: 10m 48s\tremaining: 58m 57s\n",
      "31:\tlearn: 54.1961211\ttotal: 11m 9s\tremaining: 58m 35s\n",
      "32:\tlearn: 54.0073693\ttotal: 11m 30s\tremaining: 58m 13s\n",
      "33:\tlearn: 53.8586638\ttotal: 11m 50s\tremaining: 57m 49s\n",
      "34:\tlearn: 53.6961201\ttotal: 12m 11s\tremaining: 57m 29s\n",
      "35:\tlearn: 53.5642561\ttotal: 12m 32s\tremaining: 57m 7s\n",
      "36:\tlearn: 53.4033145\ttotal: 12m 52s\tremaining: 56m 44s\n",
      "37:\tlearn: 53.2676865\ttotal: 13m 13s\tremaining: 56m 21s\n",
      "38:\tlearn: 53.1320616\ttotal: 13m 34s\tremaining: 56m 1s\n",
      "39:\tlearn: 53.0032508\ttotal: 13m 54s\tremaining: 55m 37s\n",
      "40:\tlearn: 52.8742675\ttotal: 14m 15s\tremaining: 55m 16s\n",
      "41:\tlearn: 52.7651732\ttotal: 14m 35s\tremaining: 54m 53s\n",
      "42:\tlearn: 52.6493832\ttotal: 14m 56s\tremaining: 54m 34s\n",
      "43:\tlearn: 52.5389666\ttotal: 15m 17s\tremaining: 54m 12s\n",
      "44:\tlearn: 52.4162903\ttotal: 15m 38s\tremaining: 53m 51s\n",
      "45:\tlearn: 52.3136149\ttotal: 15m 58s\tremaining: 53m 29s\n",
      "46:\tlearn: 52.2088004\ttotal: 16m 19s\tremaining: 53m 9s\n",
      "47:\tlearn: 52.1073106\ttotal: 16m 39s\tremaining: 52m 46s\n",
      "48:\tlearn: 52.0127791\ttotal: 17m\tremaining: 52m 26s\n",
      "49:\tlearn: 51.9182726\ttotal: 17m 21s\tremaining: 52m 5s\n",
      "50:\tlearn: 51.8315936\ttotal: 17m 42s\tremaining: 51m 42s\n",
      "51:\tlearn: 51.7538624\ttotal: 18m 2s\tremaining: 51m 22s\n",
      "52:\tlearn: 51.6801539\ttotal: 18m 23s\tremaining: 51m\n",
      "53:\tlearn: 51.6069748\ttotal: 18m 43s\tremaining: 50m 37s\n",
      "54:\tlearn: 51.5397026\ttotal: 19m 4s\tremaining: 50m 17s\n",
      "55:\tlearn: 51.4443455\ttotal: 19m 25s\tremaining: 49m 56s\n",
      "56:\tlearn: 51.3855678\ttotal: 19m 45s\tremaining: 49m 33s\n",
      "57:\tlearn: 51.3168961\ttotal: 20m 8s\tremaining: 49m 19s\n",
      "58:\tlearn: 51.2401865\ttotal: 20m 30s\tremaining: 49m 1s\n",
      "59:\tlearn: 51.1694517\ttotal: 20m 51s\tremaining: 48m 39s\n",
      "60:\tlearn: 51.1054898\ttotal: 21m 12s\tremaining: 48m 18s\n",
      "61:\tlearn: 51.0390380\ttotal: 21m 33s\tremaining: 47m 58s\n",
      "62:\tlearn: 50.9861135\ttotal: 21m 53s\tremaining: 47m 36s\n",
      "63:\tlearn: 50.9176964\ttotal: 22m 14s\tremaining: 47m 15s\n",
      "64:\tlearn: 50.8581925\ttotal: 22m 35s\tremaining: 46m 54s\n",
      "65:\tlearn: 50.8045607\ttotal: 22m 55s\tremaining: 46m 32s\n",
      "66:\tlearn: 50.7475943\ttotal: 23m 15s\tremaining: 46m 10s\n",
      "67:\tlearn: 50.6933314\ttotal: 23m 35s\tremaining: 45m 48s\n",
      "68:\tlearn: 50.6375711\ttotal: 23m 56s\tremaining: 45m 27s\n",
      "69:\tlearn: 50.5797996\ttotal: 24m 17s\tremaining: 45m 6s\n",
      "70:\tlearn: 50.5352232\ttotal: 24m 37s\tremaining: 44m 44s\n",
      "71:\tlearn: 50.4902523\ttotal: 24m 58s\tremaining: 44m 23s\n",
      "72:\tlearn: 50.4449514\ttotal: 25m 18s\tremaining: 44m 2s\n",
      "73:\tlearn: 50.4051565\ttotal: 25m 39s\tremaining: 43m 40s\n",
      "74:\tlearn: 50.3482371\ttotal: 25m 59s\tremaining: 43m 19s\n",
      "75:\tlearn: 50.3076444\ttotal: 26m 20s\tremaining: 42m 59s\n",
      "76:\tlearn: 50.2691296\ttotal: 26m 40s\tremaining: 42m 37s\n",
      "77:\tlearn: 50.2284171\ttotal: 27m 1s\tremaining: 42m 16s\n",
      "78:\tlearn: 50.1858770\ttotal: 27m 22s\tremaining: 41m 56s\n",
      "79:\tlearn: 50.1480273\ttotal: 27m 43s\tremaining: 41m 34s\n",
      "80:\tlearn: 50.1118726\ttotal: 28m 3s\tremaining: 41m 13s\n",
      "81:\tlearn: 50.0714925\ttotal: 28m 24s\tremaining: 40m 52s\n",
      "82:\tlearn: 50.0315588\ttotal: 28m 44s\tremaining: 40m 31s\n",
      "83:\tlearn: 49.9954438\ttotal: 29m 5s\tremaining: 40m 10s\n",
      "84:\tlearn: 49.9617619\ttotal: 29m 25s\tremaining: 39m 48s\n",
      "85:\tlearn: 49.9232830\ttotal: 29m 45s\tremaining: 39m 27s\n",
      "86:\tlearn: 49.8931809\ttotal: 30m 6s\tremaining: 39m 6s\n",
      "87:\tlearn: 49.8661391\ttotal: 30m 26s\tremaining: 38m 44s\n",
      "88:\tlearn: 49.8287273\ttotal: 30m 47s\tremaining: 38m 23s\n",
      "89:\tlearn: 49.8022526\ttotal: 31m 8s\tremaining: 38m 3s\n",
      "90:\tlearn: 49.7720197\ttotal: 31m 28s\tremaining: 37m 41s\n",
      "91:\tlearn: 49.7454166\ttotal: 31m 49s\tremaining: 37m 21s\n",
      "92:\tlearn: 49.7094257\ttotal: 32m 10s\tremaining: 37m\n",
      "93:\tlearn: 49.6755680\ttotal: 32m 30s\tremaining: 36m 39s\n",
      "94:\tlearn: 49.6426795\ttotal: 32m 50s\tremaining: 36m 18s\n",
      "95:\tlearn: 49.6081355\ttotal: 33m 11s\tremaining: 35m 56s\n",
      "96:\tlearn: 49.5782918\ttotal: 33m 31s\tremaining: 35m 35s\n",
      "97:\tlearn: 49.5520157\ttotal: 33m 51s\tremaining: 35m 14s\n",
      "98:\tlearn: 49.5293354\ttotal: 34m 11s\tremaining: 34m 53s\n",
      "99:\tlearn: 49.5015527\ttotal: 34m 32s\tremaining: 34m 32s\n",
      "100:\tlearn: 49.4748073\ttotal: 34m 52s\tremaining: 34m 11s\n",
      "101:\tlearn: 49.4416105\ttotal: 35m 13s\tremaining: 33m 50s\n",
      "102:\tlearn: 49.4199259\ttotal: 35m 33s\tremaining: 33m 29s\n",
      "103:\tlearn: 49.3923644\ttotal: 35m 54s\tremaining: 33m 8s\n",
      "104:\tlearn: 49.3588577\ttotal: 36m 14s\tremaining: 32m 47s\n",
      "105:\tlearn: 49.3289588\ttotal: 36m 34s\tremaining: 32m 26s\n",
      "106:\tlearn: 49.2976565\ttotal: 36m 55s\tremaining: 32m 5s\n",
      "107:\tlearn: 49.2706497\ttotal: 37m 16s\tremaining: 31m 44s\n",
      "108:\tlearn: 49.2348820\ttotal: 37m 37s\tremaining: 31m 24s\n",
      "109:\tlearn: 49.2129480\ttotal: 37m 57s\tremaining: 31m 3s\n",
      "110:\tlearn: 49.1897066\ttotal: 38m 17s\tremaining: 30m 42s\n",
      "111:\tlearn: 49.1611310\ttotal: 38m 38s\tremaining: 30m 21s\n",
      "112:\tlearn: 49.1425981\ttotal: 38m 58s\tremaining: 30m\n",
      "113:\tlearn: 49.1114857\ttotal: 39m 19s\tremaining: 29m 39s\n",
      "114:\tlearn: 49.0763698\ttotal: 39m 40s\tremaining: 29m 19s\n",
      "115:\tlearn: 49.0464893\ttotal: 39m 59s\tremaining: 28m 57s\n",
      "116:\tlearn: 49.0167202\ttotal: 40m 20s\tremaining: 28m 37s\n",
      "117:\tlearn: 48.9924706\ttotal: 40m 41s\tremaining: 28m 16s\n",
      "118:\tlearn: 48.9627444\ttotal: 41m 1s\tremaining: 27m 55s\n",
      "119:\tlearn: 48.9382178\ttotal: 41m 22s\tremaining: 27m 34s\n",
      "120:\tlearn: 48.9160874\ttotal: 41m 42s\tremaining: 27m 13s\n",
      "121:\tlearn: 48.8916096\ttotal: 42m 3s\tremaining: 26m 53s\n",
      "122:\tlearn: 48.8588031\ttotal: 42m 24s\tremaining: 26m 32s\n",
      "123:\tlearn: 48.8292729\ttotal: 42m 45s\tremaining: 26m 12s\n",
      "124:\tlearn: 48.8098917\ttotal: 43m 5s\tremaining: 25m 51s\n",
      "125:\tlearn: 48.7896380\ttotal: 43m 25s\tremaining: 25m 30s\n",
      "126:\tlearn: 48.7657213\ttotal: 43m 46s\tremaining: 25m 9s\n",
      "127:\tlearn: 48.7487441\ttotal: 44m 6s\tremaining: 24m 48s\n",
      "128:\tlearn: 48.7295713\ttotal: 44m 26s\tremaining: 24m 27s\n",
      "129:\tlearn: 48.7107813\ttotal: 44m 46s\tremaining: 24m 6s\n",
      "130:\tlearn: 48.6863519\ttotal: 45m 7s\tremaining: 23m 45s\n",
      "131:\tlearn: 48.6633575\ttotal: 45m 27s\tremaining: 23m 25s\n",
      "132:\tlearn: 48.6465032\ttotal: 45m 48s\tremaining: 23m 4s\n",
      "133:\tlearn: 48.6219842\ttotal: 46m 8s\tremaining: 22m 43s\n",
      "134:\tlearn: 48.6024434\ttotal: 46m 29s\tremaining: 22m 23s\n",
      "135:\tlearn: 48.5787203\ttotal: 46m 49s\tremaining: 22m 2s\n",
      "136:\tlearn: 48.5580558\ttotal: 47m 10s\tremaining: 21m 41s\n",
      "137:\tlearn: 48.5313207\ttotal: 47m 30s\tremaining: 21m 20s\n",
      "138:\tlearn: 48.5098558\ttotal: 47m 50s\tremaining: 20m 59s\n",
      "139:\tlearn: 48.4965955\ttotal: 48m 10s\tremaining: 20m 38s\n",
      "140:\tlearn: 48.4739340\ttotal: 48m 31s\tremaining: 20m 18s\n",
      "141:\tlearn: 48.4533084\ttotal: 48m 51s\tremaining: 19m 57s\n",
      "142:\tlearn: 48.4377893\ttotal: 49m 11s\tremaining: 19m 36s\n",
      "143:\tlearn: 48.4126794\ttotal: 49m 32s\tremaining: 19m 15s\n",
      "144:\tlearn: 48.3894421\ttotal: 49m 52s\tremaining: 18m 55s\n",
      "145:\tlearn: 48.3643840\ttotal: 50m 13s\tremaining: 18m 34s\n",
      "146:\tlearn: 48.3494308\ttotal: 50m 33s\tremaining: 18m 13s\n",
      "147:\tlearn: 48.3277483\ttotal: 50m 53s\tremaining: 17m 52s\n",
      "148:\tlearn: 48.3084773\ttotal: 51m 13s\tremaining: 17m 32s\n",
      "149:\tlearn: 48.2914010\ttotal: 51m 34s\tremaining: 17m 11s\n",
      "150:\tlearn: 48.2754241\ttotal: 51m 54s\tremaining: 16m 50s\n",
      "151:\tlearn: 48.2602217\ttotal: 52m 15s\tremaining: 16m 30s\n",
      "152:\tlearn: 48.2347750\ttotal: 52m 35s\tremaining: 16m 9s\n",
      "153:\tlearn: 48.2195346\ttotal: 52m 56s\tremaining: 15m 48s\n",
      "154:\tlearn: 48.2015186\ttotal: 53m 16s\tremaining: 15m 28s\n",
      "155:\tlearn: 48.1820434\ttotal: 53m 37s\tremaining: 15m 7s\n",
      "156:\tlearn: 48.1578584\ttotal: 53m 58s\tremaining: 14m 46s\n",
      "157:\tlearn: 48.1452443\ttotal: 54m 17s\tremaining: 14m 26s\n",
      "158:\tlearn: 48.1246183\ttotal: 54m 38s\tremaining: 14m 5s\n",
      "159:\tlearn: 48.1080506\ttotal: 54m 59s\tremaining: 13m 44s\n",
      "160:\tlearn: 48.0769884\ttotal: 55m 19s\tremaining: 13m 24s\n",
      "161:\tlearn: 48.0579009\ttotal: 55m 40s\tremaining: 13m 3s\n",
      "162:\tlearn: 48.0406157\ttotal: 56m\tremaining: 12m 42s\n",
      "163:\tlearn: 48.0221838\ttotal: 56m 21s\tremaining: 12m 22s\n",
      "164:\tlearn: 48.0064832\ttotal: 56m 41s\tremaining: 12m 1s\n",
      "165:\tlearn: 47.9887966\ttotal: 57m 2s\tremaining: 11m 40s\n",
      "166:\tlearn: 47.9783831\ttotal: 57m 21s\tremaining: 11m 20s\n",
      "167:\tlearn: 47.9628472\ttotal: 57m 41s\tremaining: 10m 59s\n",
      "168:\tlearn: 47.9469498\ttotal: 58m 2s\tremaining: 10m 38s\n",
      "169:\tlearn: 47.9302161\ttotal: 58m 22s\tremaining: 10m 18s\n",
      "170:\tlearn: 47.9138187\ttotal: 58m 43s\tremaining: 9m 57s\n",
      "171:\tlearn: 47.8986865\ttotal: 59m 3s\tremaining: 9m 36s\n",
      "172:\tlearn: 47.8856203\ttotal: 59m 23s\tremaining: 9m 16s\n",
      "173:\tlearn: 47.8707280\ttotal: 59m 44s\tremaining: 8m 55s\n",
      "174:\tlearn: 47.8557729\ttotal: 1h 4s\tremaining: 8m 34s\n",
      "175:\tlearn: 47.8391429\ttotal: 1h 24s\tremaining: 8m 14s\n",
      "176:\tlearn: 47.8247585\ttotal: 1h 45s\tremaining: 7m 53s\n",
      "177:\tlearn: 47.8121696\ttotal: 1h 1m 5s\tremaining: 7m 33s\n",
      "178:\tlearn: 47.7991464\ttotal: 1h 1m 25s\tremaining: 7m 12s\n",
      "179:\tlearn: 47.7825872\ttotal: 1h 1m 46s\tremaining: 6m 51s\n",
      "180:\tlearn: 47.7641068\ttotal: 1h 2m 6s\tremaining: 6m 31s\n",
      "181:\tlearn: 47.7526977\ttotal: 1h 2m 27s\tremaining: 6m 10s\n",
      "182:\tlearn: 47.7397267\ttotal: 1h 2m 47s\tremaining: 5m 49s\n",
      "183:\tlearn: 47.7253955\ttotal: 1h 3m 8s\tremaining: 5m 29s\n",
      "184:\tlearn: 47.7081436\ttotal: 1h 3m 28s\tremaining: 5m 8s\n",
      "185:\tlearn: 47.6896282\ttotal: 1h 3m 49s\tremaining: 4m 48s\n",
      "186:\tlearn: 47.6757427\ttotal: 1h 4m 9s\tremaining: 4m 27s\n",
      "187:\tlearn: 47.6600783\ttotal: 1h 4m 30s\tremaining: 4m 7s\n",
      "188:\tlearn: 47.6487427\ttotal: 1h 4m 50s\tremaining: 3m 46s\n",
      "189:\tlearn: 47.6328002\ttotal: 1h 5m 11s\tremaining: 3m 25s\n",
      "190:\tlearn: 47.6159284\ttotal: 1h 5m 31s\tremaining: 3m 5s\n",
      "191:\tlearn: 47.6028005\ttotal: 1h 5m 51s\tremaining: 2m 44s\n",
      "192:\tlearn: 47.5892403\ttotal: 1h 6m 11s\tremaining: 2m 24s\n",
      "193:\tlearn: 47.5753638\ttotal: 1h 6m 32s\tremaining: 2m 3s\n",
      "194:\tlearn: 47.5603210\ttotal: 1h 6m 52s\tremaining: 1m 42s\n",
      "195:\tlearn: 47.5485012\ttotal: 1h 7m 13s\tremaining: 1m 22s\n",
      "196:\tlearn: 47.5365297\ttotal: 1h 7m 33s\tremaining: 1m 1s\n",
      "197:\tlearn: 47.5228586\ttotal: 1h 7m 54s\tremaining: 41.2s\n",
      "198:\tlearn: 47.5102943\ttotal: 1h 8m 14s\tremaining: 20.6s\n",
      "199:\tlearn: 47.4951502\ttotal: 1h 8m 34s\tremaining: 0us\n",
      "2 0.6684446198641047\n",
      "Train...\n",
      "0:\tlearn: 74.4962350\ttotal: 20.8s\tremaining: 1h 8m 56s\n",
      "1:\tlearn: 72.3508744\ttotal: 43.1s\tremaining: 1h 11m 3s\n",
      "2:\tlearn: 70.4697048\ttotal: 1m 3s\tremaining: 1h 9m 25s\n",
      "3:\tlearn: 68.8220109\ttotal: 1m 24s\tremaining: 1h 8m 47s\n",
      "4:\tlearn: 67.2763328\ttotal: 1m 44s\tremaining: 1h 8m 8s\n",
      "5:\tlearn: 66.0012822\ttotal: 2m 5s\tremaining: 1h 7m 31s\n",
      "6:\tlearn: 64.8339909\ttotal: 2m 26s\tremaining: 1h 7m 14s\n",
      "7:\tlearn: 63.7903613\ttotal: 2m 47s\tremaining: 1h 6m 58s\n",
      "8:\tlearn: 62.8433759\ttotal: 3m 8s\tremaining: 1h 6m 37s\n",
      "9:\tlearn: 62.0078555\ttotal: 3m 29s\tremaining: 1h 6m 15s\n",
      "10:\tlearn: 61.2622559\ttotal: 3m 49s\tremaining: 1h 5m 49s\n",
      "11:\tlearn: 60.6461037\ttotal: 4m 10s\tremaining: 1h 5m 28s\n",
      "12:\tlearn: 60.0947880\ttotal: 4m 31s\tremaining: 1h 5m 5s\n",
      "13:\tlearn: 59.5344129\ttotal: 4m 51s\tremaining: 1h 4m 33s\n",
      "14:\tlearn: 59.0435420\ttotal: 5m 12s\tremaining: 1h 4m 11s\n",
      "15:\tlearn: 58.6192091\ttotal: 5m 32s\tremaining: 1h 3m 45s\n",
      "16:\tlearn: 58.2041876\ttotal: 5m 53s\tremaining: 1h 3m 21s\n",
      "17:\tlearn: 57.7993540\ttotal: 6m 14s\tremaining: 1h 3m 3s\n",
      "18:\tlearn: 57.4367146\ttotal: 6m 35s\tremaining: 1h 2m 43s\n",
      "19:\tlearn: 57.1099815\ttotal: 6m 55s\tremaining: 1h 2m 21s\n",
      "20:\tlearn: 56.7695907\ttotal: 7m 16s\tremaining: 1h 2m 2s\n",
      "21:\tlearn: 56.5069338\ttotal: 7m 37s\tremaining: 1h 1m 39s\n",
      "22:\tlearn: 56.2030268\ttotal: 7m 57s\tremaining: 1h 1m 17s\n",
      "23:\tlearn: 55.9508203\ttotal: 8m 18s\tremaining: 1h 57s\n",
      "24:\tlearn: 55.7003708\ttotal: 8m 39s\tremaining: 1h 39s\n",
      "25:\tlearn: 55.4450949\ttotal: 9m\tremaining: 1h 17s\n",
      "26:\tlearn: 55.1977753\ttotal: 9m 21s\tremaining: 59m 58s\n",
      "27:\tlearn: 55.0150008\ttotal: 9m 42s\tremaining: 59m 37s\n",
      "28:\tlearn: 54.7847548\ttotal: 10m 13s\tremaining: 1h 18s\n",
      "29:\tlearn: 54.5968297\ttotal: 10m 34s\tremaining: 59m 56s\n",
      "30:\tlearn: 54.4187992\ttotal: 10m 56s\tremaining: 59m 37s\n",
      "31:\tlearn: 54.2375161\ttotal: 11m 19s\tremaining: 59m 28s\n",
      "32:\tlearn: 54.0864274\ttotal: 11m 40s\tremaining: 59m 3s\n",
      "33:\tlearn: 53.9265568\ttotal: 12m 1s\tremaining: 58m 44s\n",
      "34:\tlearn: 53.7573752\ttotal: 12m 23s\tremaining: 58m 23s\n",
      "35:\tlearn: 53.6088803\ttotal: 12m 44s\tremaining: 58m 2s\n",
      "36:\tlearn: 53.4543456\ttotal: 13m 6s\tremaining: 57m 43s\n",
      "37:\tlearn: 53.3173366\ttotal: 13m 27s\tremaining: 57m 23s\n",
      "38:\tlearn: 53.1797737\ttotal: 13m 48s\tremaining: 57m\n",
      "39:\tlearn: 53.0736090\ttotal: 14m 9s\tremaining: 56m 39s\n",
      "40:\tlearn: 52.9491945\ttotal: 14m 30s\tremaining: 56m 15s\n",
      "41:\tlearn: 52.8359071\ttotal: 14m 51s\tremaining: 55m 54s\n",
      "42:\tlearn: 52.7269708\ttotal: 15m 13s\tremaining: 55m 34s\n",
      "43:\tlearn: 52.6166170\ttotal: 15m 34s\tremaining: 55m 12s\n",
      "44:\tlearn: 52.5160323\ttotal: 15m 55s\tremaining: 54m 49s\n",
      "45:\tlearn: 52.4225450\ttotal: 16m 16s\tremaining: 54m 28s\n",
      "46:\tlearn: 52.3235367\ttotal: 16m 37s\tremaining: 54m 8s\n",
      "47:\tlearn: 52.2329544\ttotal: 16m 59s\tremaining: 53m 47s\n",
      "48:\tlearn: 52.1426431\ttotal: 17m 20s\tremaining: 53m 26s\n",
      "49:\tlearn: 52.0633463\ttotal: 17m 41s\tremaining: 53m 4s\n",
      "50:\tlearn: 51.9840707\ttotal: 18m 2s\tremaining: 52m 41s\n",
      "51:\tlearn: 51.9012120\ttotal: 18m 23s\tremaining: 52m 20s\n",
      "52:\tlearn: 51.8169135\ttotal: 18m 44s\tremaining: 51m 58s\n",
      "53:\tlearn: 51.7338636\ttotal: 19m 5s\tremaining: 51m 36s\n",
      "54:\tlearn: 51.6605912\ttotal: 19m 26s\tremaining: 51m 16s\n",
      "55:\tlearn: 51.5858100\ttotal: 19m 48s\tremaining: 50m 55s\n",
      "56:\tlearn: 51.5255888\ttotal: 20m 9s\tremaining: 50m 33s\n",
      "57:\tlearn: 51.4546495\ttotal: 20m 32s\tremaining: 50m 16s\n",
      "58:\tlearn: 51.3860545\ttotal: 20m 53s\tremaining: 49m 55s\n",
      "59:\tlearn: 51.3187368\ttotal: 21m 14s\tremaining: 49m 33s\n",
      "60:\tlearn: 51.2505269\ttotal: 21m 35s\tremaining: 49m 12s\n",
      "61:\tlearn: 51.1896843\ttotal: 21m 57s\tremaining: 48m 51s\n",
      "62:\tlearn: 51.1386162\ttotal: 22m 17s\tremaining: 48m 29s\n",
      "63:\tlearn: 51.0740974\ttotal: 22m 38s\tremaining: 48m 7s\n",
      "64:\tlearn: 51.0275038\ttotal: 23m\tremaining: 47m 46s\n",
      "65:\tlearn: 50.9639245\ttotal: 23m 21s\tremaining: 47m 24s\n",
      "66:\tlearn: 50.8901345\ttotal: 23m 41s\tremaining: 47m 2s\n",
      "67:\tlearn: 50.8346755\ttotal: 24m 3s\tremaining: 46m 41s\n",
      "68:\tlearn: 50.7730408\ttotal: 24m 23s\tremaining: 46m 18s\n",
      "69:\tlearn: 50.7166782\ttotal: 24m 45s\tremaining: 45m 57s\n",
      "70:\tlearn: 50.6699430\ttotal: 25m 5s\tremaining: 45m 36s\n",
      "71:\tlearn: 50.6175707\ttotal: 25m 26s\tremaining: 45m 13s\n",
      "72:\tlearn: 50.5664380\ttotal: 25m 47s\tremaining: 44m 52s\n",
      "73:\tlearn: 50.5223023\ttotal: 26m 8s\tremaining: 44m 31s\n",
      "74:\tlearn: 50.4535874\ttotal: 26m 30s\tremaining: 44m 10s\n",
      "75:\tlearn: 50.4121533\ttotal: 26m 51s\tremaining: 43m 49s\n",
      "76:\tlearn: 50.3649894\ttotal: 27m 12s\tremaining: 43m 28s\n",
      "77:\tlearn: 50.3106790\ttotal: 27m 34s\tremaining: 43m 7s\n",
      "78:\tlearn: 50.2679200\ttotal: 27m 55s\tremaining: 42m 46s\n",
      "79:\tlearn: 50.2310087\ttotal: 28m 16s\tremaining: 42m 24s\n",
      "80:\tlearn: 50.1947530\ttotal: 28m 38s\tremaining: 42m 5s\n",
      "81:\tlearn: 50.1551974\ttotal: 29m\tremaining: 41m 43s\n",
      "82:\tlearn: 50.1219698\ttotal: 29m 21s\tremaining: 41m 22s\n",
      "83:\tlearn: 50.0969417\ttotal: 29m 42s\tremaining: 41m\n",
      "84:\tlearn: 50.0618370\ttotal: 30m 3s\tremaining: 40m 39s\n",
      "85:\tlearn: 50.0228421\ttotal: 30m 24s\tremaining: 40m 18s\n",
      "86:\tlearn: 49.9877923\ttotal: 30m 45s\tremaining: 39m 56s\n",
      "87:\tlearn: 49.9577460\ttotal: 31m 6s\tremaining: 39m 36s\n",
      "88:\tlearn: 49.9183666\ttotal: 31m 28s\tremaining: 39m 15s\n",
      "89:\tlearn: 49.8940075\ttotal: 31m 49s\tremaining: 38m 53s\n",
      "90:\tlearn: 49.8500931\ttotal: 32m 10s\tremaining: 38m 32s\n",
      "91:\tlearn: 49.8194807\ttotal: 32m 31s\tremaining: 38m 11s\n",
      "92:\tlearn: 49.7918808\ttotal: 32m 52s\tremaining: 37m 49s\n",
      "93:\tlearn: 49.7613501\ttotal: 33m 14s\tremaining: 37m 28s\n",
      "94:\tlearn: 49.7224848\ttotal: 33m 35s\tremaining: 37m 7s\n",
      "95:\tlearn: 49.6835519\ttotal: 33m 56s\tremaining: 36m 46s\n",
      "96:\tlearn: 49.6504309\ttotal: 34m 17s\tremaining: 36m 24s\n",
      "97:\tlearn: 49.6235606\ttotal: 34m 38s\tremaining: 36m 3s\n",
      "98:\tlearn: 49.6015989\ttotal: 34m 58s\tremaining: 35m 41s\n",
      "99:\tlearn: 49.5760528\ttotal: 35m 20s\tremaining: 35m 20s\n",
      "100:\tlearn: 49.5392258\ttotal: 35m 40s\tremaining: 34m 58s\n",
      "101:\tlearn: 49.5064428\ttotal: 36m 1s\tremaining: 34m 36s\n",
      "102:\tlearn: 49.4675319\ttotal: 36m 22s\tremaining: 34m 15s\n",
      "103:\tlearn: 49.4398600\ttotal: 36m 44s\tremaining: 33m 54s\n",
      "104:\tlearn: 49.4134470\ttotal: 37m 5s\tremaining: 33m 33s\n",
      "105:\tlearn: 49.3820845\ttotal: 37m 26s\tremaining: 33m 12s\n",
      "106:\tlearn: 49.3525017\ttotal: 37m 47s\tremaining: 32m 51s\n",
      "107:\tlearn: 49.3251000\ttotal: 38m 8s\tremaining: 32m 29s\n",
      "108:\tlearn: 49.2941139\ttotal: 38m 29s\tremaining: 32m 8s\n",
      "109:\tlearn: 49.2694845\ttotal: 38m 50s\tremaining: 31m 47s\n",
      "110:\tlearn: 49.2473233\ttotal: 39m 11s\tremaining: 31m 25s\n",
      "111:\tlearn: 49.2264232\ttotal: 39m 32s\tremaining: 31m 4s\n",
      "112:\tlearn: 49.1975146\ttotal: 39m 53s\tremaining: 30m 42s\n",
      "113:\tlearn: 49.1700065\ttotal: 40m 14s\tremaining: 30m 21s\n",
      "114:\tlearn: 49.1366538\ttotal: 40m 36s\tremaining: 30m\n",
      "115:\tlearn: 49.1101239\ttotal: 40m 56s\tremaining: 29m 38s\n",
      "116:\tlearn: 49.0793925\ttotal: 41m 17s\tremaining: 29m 17s\n",
      "117:\tlearn: 49.0586218\ttotal: 41m 38s\tremaining: 28m 56s\n",
      "118:\tlearn: 49.0345760\ttotal: 41m 59s\tremaining: 28m 35s\n",
      "119:\tlearn: 49.0157555\ttotal: 42m 20s\tremaining: 28m 13s\n",
      "120:\tlearn: 48.9946485\ttotal: 42m 41s\tremaining: 27m 52s\n",
      "121:\tlearn: 48.9666235\ttotal: 43m 2s\tremaining: 27m 30s\n",
      "122:\tlearn: 48.9351230\ttotal: 43m 23s\tremaining: 27m 9s\n",
      "123:\tlearn: 48.9102900\ttotal: 43m 44s\tremaining: 26m 48s\n",
      "124:\tlearn: 48.8892244\ttotal: 44m 5s\tremaining: 26m 27s\n",
      "125:\tlearn: 48.8726850\ttotal: 44m 26s\tremaining: 26m 5s\n",
      "126:\tlearn: 48.8459259\ttotal: 44m 47s\tremaining: 25m 44s\n",
      "127:\tlearn: 48.8213239\ttotal: 45m 8s\tremaining: 25m 23s\n",
      "128:\tlearn: 48.8010814\ttotal: 45m 29s\tremaining: 25m 2s\n",
      "129:\tlearn: 48.7862032\ttotal: 45m 50s\tremaining: 24m 40s\n",
      "130:\tlearn: 48.7518815\ttotal: 46m 11s\tremaining: 24m 19s\n",
      "131:\tlearn: 48.7298262\ttotal: 46m 31s\tremaining: 23m 58s\n",
      "132:\tlearn: 48.7082581\ttotal: 46m 52s\tremaining: 23m 36s\n",
      "133:\tlearn: 48.6851923\ttotal: 47m 13s\tremaining: 23m 15s\n",
      "134:\tlearn: 48.6658235\ttotal: 47m 34s\tremaining: 22m 54s\n",
      "135:\tlearn: 48.6355055\ttotal: 47m 55s\tremaining: 22m 33s\n",
      "136:\tlearn: 48.6147430\ttotal: 48m 16s\tremaining: 22m 11s\n",
      "137:\tlearn: 48.5947577\ttotal: 48m 37s\tremaining: 21m 50s\n",
      "138:\tlearn: 48.5775824\ttotal: 48m 58s\tremaining: 21m 29s\n",
      "139:\tlearn: 48.5550675\ttotal: 49m 19s\tremaining: 21m 8s\n",
      "140:\tlearn: 48.5329272\ttotal: 49m 40s\tremaining: 20m 47s\n",
      "141:\tlearn: 48.5114594\ttotal: 50m 1s\tremaining: 20m 26s\n",
      "142:\tlearn: 48.4961780\ttotal: 50m 22s\tremaining: 20m 4s\n",
      "143:\tlearn: 48.4683336\ttotal: 50m 43s\tremaining: 19m 43s\n",
      "144:\tlearn: 48.4518554\ttotal: 51m 4s\tremaining: 19m 22s\n",
      "145:\tlearn: 48.4338041\ttotal: 51m 24s\tremaining: 19m\n",
      "146:\tlearn: 48.4145067\ttotal: 51m 45s\tremaining: 18m 39s\n",
      "147:\tlearn: 48.3954162\ttotal: 52m 6s\tremaining: 18m 18s\n",
      "148:\tlearn: 48.3792637\ttotal: 52m 27s\tremaining: 17m 57s\n",
      "149:\tlearn: 48.3567651\ttotal: 52m 49s\tremaining: 17m 36s\n",
      "150:\tlearn: 48.3306454\ttotal: 53m 10s\tremaining: 17m 15s\n",
      "151:\tlearn: 48.3118855\ttotal: 53m 31s\tremaining: 16m 54s\n",
      "152:\tlearn: 48.2962843\ttotal: 53m 52s\tremaining: 16m 32s\n",
      "153:\tlearn: 48.2757307\ttotal: 54m 13s\tremaining: 16m 11s\n",
      "154:\tlearn: 48.2518440\ttotal: 54m 34s\tremaining: 15m 50s\n",
      "155:\tlearn: 48.2337593\ttotal: 54m 55s\tremaining: 15m 29s\n",
      "156:\tlearn: 48.2153551\ttotal: 55m 16s\tremaining: 15m 8s\n",
      "157:\tlearn: 48.1970021\ttotal: 55m 37s\tremaining: 14m 47s\n",
      "158:\tlearn: 48.1765920\ttotal: 55m 58s\tremaining: 14m 25s\n",
      "159:\tlearn: 48.1611885\ttotal: 56m 18s\tremaining: 14m 4s\n",
      "160:\tlearn: 48.1409090\ttotal: 56m 39s\tremaining: 13m 43s\n",
      "161:\tlearn: 48.1213725\ttotal: 57m\tremaining: 13m 22s\n",
      "162:\tlearn: 48.1048800\ttotal: 57m 22s\tremaining: 13m 1s\n",
      "163:\tlearn: 48.0827320\ttotal: 57m 42s\tremaining: 12m 40s\n",
      "164:\tlearn: 48.0665179\ttotal: 58m 3s\tremaining: 12m 19s\n",
      "165:\tlearn: 48.0436419\ttotal: 58m 25s\tremaining: 11m 57s\n",
      "166:\tlearn: 48.0285205\ttotal: 58m 45s\tremaining: 11m 36s\n",
      "167:\tlearn: 48.0153756\ttotal: 59m 6s\tremaining: 11m 15s\n",
      "168:\tlearn: 47.9962997\ttotal: 59m 27s\tremaining: 10m 54s\n",
      "169:\tlearn: 47.9778862\ttotal: 59m 48s\tremaining: 10m 33s\n",
      "170:\tlearn: 47.9625311\ttotal: 1h 9s\tremaining: 10m 12s\n",
      "171:\tlearn: 47.9520430\ttotal: 1h 30s\tremaining: 9m 50s\n",
      "172:\tlearn: 47.9405511\ttotal: 1h 50s\tremaining: 9m 29s\n",
      "173:\tlearn: 47.9258564\ttotal: 1h 1m 11s\tremaining: 9m 8s\n",
      "174:\tlearn: 47.9153464\ttotal: 1h 1m 32s\tremaining: 8m 47s\n",
      "175:\tlearn: 47.8966938\ttotal: 1h 1m 53s\tremaining: 8m 26s\n",
      "176:\tlearn: 47.8794314\ttotal: 1h 2m 13s\tremaining: 8m 5s\n",
      "177:\tlearn: 47.8660983\ttotal: 1h 2m 34s\tremaining: 7m 44s\n",
      "178:\tlearn: 47.8538963\ttotal: 1h 2m 55s\tremaining: 7m 22s\n",
      "179:\tlearn: 47.8322400\ttotal: 1h 3m 17s\tremaining: 7m 1s\n",
      "180:\tlearn: 47.8181359\ttotal: 1h 3m 37s\tremaining: 6m 40s\n",
      "181:\tlearn: 47.8021581\ttotal: 1h 3m 58s\tremaining: 6m 19s\n",
      "182:\tlearn: 47.7815660\ttotal: 1h 4m 19s\tremaining: 5m 58s\n",
      "183:\tlearn: 47.7686878\ttotal: 1h 4m 40s\tremaining: 5m 37s\n",
      "184:\tlearn: 47.7531018\ttotal: 1h 5m 2s\tremaining: 5m 16s\n",
      "185:\tlearn: 47.7324716\ttotal: 1h 5m 23s\tremaining: 4m 55s\n",
      "186:\tlearn: 47.7188592\ttotal: 1h 5m 44s\tremaining: 4m 34s\n",
      "187:\tlearn: 47.7024654\ttotal: 1h 6m 5s\tremaining: 4m 13s\n",
      "188:\tlearn: 47.6920531\ttotal: 1h 6m 26s\tremaining: 3m 52s\n",
      "189:\tlearn: 47.6747832\ttotal: 1h 6m 47s\tremaining: 3m 30s\n",
      "190:\tlearn: 47.6618387\ttotal: 1h 7m 8s\tremaining: 3m 9s\n",
      "191:\tlearn: 47.6485795\ttotal: 1h 7m 29s\tremaining: 2m 48s\n",
      "192:\tlearn: 47.6360293\ttotal: 1h 7m 50s\tremaining: 2m 27s\n",
      "193:\tlearn: 47.6226878\ttotal: 1h 8m 11s\tremaining: 2m 6s\n",
      "194:\tlearn: 47.6109952\ttotal: 1h 8m 32s\tremaining: 1m 45s\n",
      "195:\tlearn: 47.5971678\ttotal: 1h 8m 52s\tremaining: 1m 24s\n",
      "196:\tlearn: 47.5798253\ttotal: 1h 9m 14s\tremaining: 1m 3s\n",
      "197:\tlearn: 47.5621715\ttotal: 1h 9m 36s\tremaining: 42.2s\n",
      "198:\tlearn: 47.5485907\ttotal: 1h 9m 56s\tremaining: 21.1s\n",
      "199:\tlearn: 47.5379635\ttotal: 1h 10m 18s\tremaining: 0us\n",
      "3 0.6676899623778351\n",
      "Train...\n",
      "0:\tlearn: 74.5117100\ttotal: 21.1s\tremaining: 1h 10m 2s\n",
      "1:\tlearn: 72.4104317\ttotal: 41.7s\tremaining: 1h 8m 46s\n",
      "2:\tlearn: 70.5834956\ttotal: 1m 2s\tremaining: 1h 8m 42s\n",
      "3:\tlearn: 68.9018040\ttotal: 1m 24s\tremaining: 1h 8m 58s\n",
      "4:\tlearn: 67.4580136\ttotal: 1m 45s\tremaining: 1h 8m 40s\n",
      "5:\tlearn: 66.0869527\ttotal: 2m 6s\tremaining: 1h 8m 16s\n",
      "6:\tlearn: 64.9351398\ttotal: 2m 28s\tremaining: 1h 8m 2s\n",
      "7:\tlearn: 63.8689999\ttotal: 2m 48s\tremaining: 1h 7m 33s\n",
      "8:\tlearn: 62.9096649\ttotal: 3m 9s\tremaining: 1h 7m 8s\n",
      "9:\tlearn: 62.0915397\ttotal: 3m 30s\tremaining: 1h 6m 47s\n",
      "10:\tlearn: 61.3555638\ttotal: 3m 51s\tremaining: 1h 6m 18s\n",
      "11:\tlearn: 60.6624481\ttotal: 4m 12s\tremaining: 1h 5m 56s\n",
      "12:\tlearn: 60.0827799\ttotal: 4m 33s\tremaining: 1h 5m 28s\n",
      "13:\tlearn: 59.5456347\ttotal: 4m 53s\tremaining: 1h 5m 2s\n",
      "14:\tlearn: 59.0967266\ttotal: 5m 14s\tremaining: 1h 4m 40s\n",
      "15:\tlearn: 58.6606945\ttotal: 5m 35s\tremaining: 1h 4m 18s\n",
      "16:\tlearn: 58.2503791\ttotal: 5m 55s\tremaining: 1h 3m 50s\n",
      "17:\tlearn: 57.8411899\ttotal: 6m 17s\tremaining: 1h 3m 32s\n",
      "18:\tlearn: 57.4546022\ttotal: 6m 40s\tremaining: 1h 3m 30s\n",
      "19:\tlearn: 57.0977919\ttotal: 7m 1s\tremaining: 1h 3m 9s\n",
      "20:\tlearn: 56.7514460\ttotal: 7m 22s\tremaining: 1h 2m 48s\n",
      "21:\tlearn: 56.4522952\ttotal: 7m 42s\tremaining: 1h 2m 25s\n",
      "22:\tlearn: 56.2039053\ttotal: 8m 3s\tremaining: 1h 2m\n",
      "23:\tlearn: 55.9404378\ttotal: 8m 24s\tremaining: 1h 1m 41s\n",
      "24:\tlearn: 55.6587133\ttotal: 8m 45s\tremaining: 1h 1m 18s\n",
      "25:\tlearn: 55.4074437\ttotal: 9m 6s\tremaining: 1h 58s\n",
      "26:\tlearn: 55.1949304\ttotal: 9m 27s\tremaining: 1h 35s\n",
      "27:\tlearn: 55.0032098\ttotal: 9m 47s\tremaining: 1h 11s\n",
      "28:\tlearn: 54.7886222\ttotal: 10m 14s\tremaining: 1h 23s\n",
      "29:\tlearn: 54.6124331\ttotal: 10m 35s\tremaining: 1h 2s\n",
      "30:\tlearn: 54.4089398\ttotal: 10m 56s\tremaining: 59m 41s\n",
      "31:\tlearn: 54.2534325\ttotal: 11m 17s\tremaining: 59m 16s\n",
      "32:\tlearn: 54.0807471\ttotal: 11m 38s\tremaining: 58m 56s\n",
      "33:\tlearn: 53.9135486\ttotal: 12m\tremaining: 58m 35s\n",
      "34:\tlearn: 53.7491793\ttotal: 12m 21s\tremaining: 58m 13s\n",
      "35:\tlearn: 53.6068290\ttotal: 12m 42s\tremaining: 57m 52s\n",
      "36:\tlearn: 53.4670432\ttotal: 13m 2s\tremaining: 57m 28s\n",
      "37:\tlearn: 53.3103162\ttotal: 13m 23s\tremaining: 57m 6s\n",
      "38:\tlearn: 53.1878610\ttotal: 13m 44s\tremaining: 56m 44s\n",
      "39:\tlearn: 53.0655516\ttotal: 14m 5s\tremaining: 56m 22s\n",
      "40:\tlearn: 52.9472950\ttotal: 14m 26s\tremaining: 56m\n",
      "41:\tlearn: 52.8300100\ttotal: 14m 47s\tremaining: 55m 39s\n",
      "42:\tlearn: 52.7205973\ttotal: 15m 8s\tremaining: 55m 16s\n",
      "43:\tlearn: 52.6162631\ttotal: 15m 29s\tremaining: 54m 55s\n",
      "44:\tlearn: 52.5069563\ttotal: 15m 50s\tremaining: 54m 35s\n",
      "45:\tlearn: 52.4130701\ttotal: 16m 11s\tremaining: 54m 12s\n",
      "46:\tlearn: 52.2956135\ttotal: 16m 33s\tremaining: 53m 52s\n",
      "47:\tlearn: 52.1914966\ttotal: 16m 55s\tremaining: 53m 35s\n",
      "48:\tlearn: 52.1104196\ttotal: 17m 16s\tremaining: 53m 12s\n",
      "49:\tlearn: 52.0273509\ttotal: 17m 37s\tremaining: 52m 52s\n",
      "50:\tlearn: 51.9533994\ttotal: 17m 58s\tremaining: 52m 31s\n",
      "51:\tlearn: 51.8839161\ttotal: 18m 18s\tremaining: 52m 7s\n",
      "52:\tlearn: 51.7986422\ttotal: 18m 40s\tremaining: 51m 47s\n",
      "53:\tlearn: 51.7146322\ttotal: 19m 1s\tremaining: 51m 26s\n",
      "54:\tlearn: 51.6282761\ttotal: 19m 22s\tremaining: 51m 5s\n",
      "55:\tlearn: 51.5393598\ttotal: 19m 44s\tremaining: 50m 45s\n",
      "56:\tlearn: 51.4665319\ttotal: 20m 5s\tremaining: 50m 25s\n",
      "57:\tlearn: 51.3940453\ttotal: 20m 26s\tremaining: 50m 3s\n",
      "58:\tlearn: 51.3241733\ttotal: 20m 47s\tremaining: 49m 41s\n",
      "59:\tlearn: 51.2354119\ttotal: 21m 8s\tremaining: 49m 20s\n",
      "60:\tlearn: 51.1658368\ttotal: 21m 30s\tremaining: 48m 59s\n",
      "61:\tlearn: 51.1171147\ttotal: 21m 51s\tremaining: 48m 38s\n",
      "62:\tlearn: 51.0523349\ttotal: 22m 12s\tremaining: 48m 17s\n",
      "63:\tlearn: 50.9887010\ttotal: 22m 33s\tremaining: 47m 56s\n",
      "64:\tlearn: 50.9377784\ttotal: 22m 54s\tremaining: 47m 35s\n",
      "65:\tlearn: 50.8846792\ttotal: 23m 16s\tremaining: 47m 14s\n",
      "66:\tlearn: 50.8387466\ttotal: 23m 36s\tremaining: 46m 51s\n",
      "67:\tlearn: 50.7856083\ttotal: 23m 57s\tremaining: 46m 31s\n",
      "68:\tlearn: 50.7321257\ttotal: 24m 18s\tremaining: 46m 9s\n",
      "69:\tlearn: 50.6809601\ttotal: 24m 39s\tremaining: 45m 48s\n",
      "70:\tlearn: 50.6217943\ttotal: 25m 1s\tremaining: 45m 27s\n",
      "71:\tlearn: 50.5623521\ttotal: 25m 22s\tremaining: 45m 6s\n",
      "72:\tlearn: 50.5124457\ttotal: 25m 43s\tremaining: 44m 45s\n",
      "73:\tlearn: 50.4812487\ttotal: 26m 4s\tremaining: 44m 23s\n",
      "74:\tlearn: 50.4384531\ttotal: 26m 25s\tremaining: 44m 2s\n",
      "75:\tlearn: 50.3846553\ttotal: 26m 46s\tremaining: 43m 40s\n",
      "76:\tlearn: 50.3356266\ttotal: 27m 7s\tremaining: 43m 19s\n",
      "77:\tlearn: 50.2916839\ttotal: 27m 29s\tremaining: 42m 59s\n",
      "78:\tlearn: 50.2517226\ttotal: 27m 49s\tremaining: 42m 37s\n",
      "79:\tlearn: 50.2225995\ttotal: 28m 10s\tremaining: 42m 16s\n",
      "80:\tlearn: 50.1822478\ttotal: 28m 32s\tremaining: 41m 55s\n",
      "81:\tlearn: 50.1368976\ttotal: 28m 52s\tremaining: 41m 33s\n",
      "82:\tlearn: 50.0992410\ttotal: 29m 14s\tremaining: 41m 12s\n",
      "83:\tlearn: 50.0734058\ttotal: 29m 35s\tremaining: 40m 51s\n",
      "84:\tlearn: 50.0360129\ttotal: 29m 55s\tremaining: 40m 29s\n",
      "85:\tlearn: 49.9935805\ttotal: 30m 17s\tremaining: 40m 8s\n",
      "86:\tlearn: 49.9631467\ttotal: 30m 38s\tremaining: 39m 47s\n",
      "87:\tlearn: 49.9324893\ttotal: 30m 59s\tremaining: 39m 26s\n",
      "88:\tlearn: 49.8970325\ttotal: 31m 20s\tremaining: 39m 5s\n",
      "89:\tlearn: 49.8721059\ttotal: 31m 41s\tremaining: 38m 44s\n",
      "90:\tlearn: 49.8339280\ttotal: 32m 3s\tremaining: 38m 23s\n",
      "91:\tlearn: 49.8060080\ttotal: 32m 24s\tremaining: 38m 2s\n",
      "92:\tlearn: 49.7737739\ttotal: 32m 45s\tremaining: 37m 40s\n",
      "93:\tlearn: 49.7361536\ttotal: 33m 5s\tremaining: 37m 19s\n",
      "94:\tlearn: 49.6956144\ttotal: 33m 26s\tremaining: 36m 57s\n",
      "95:\tlearn: 49.6590705\ttotal: 33m 47s\tremaining: 36m 36s\n",
      "96:\tlearn: 49.6271558\ttotal: 34m 7s\tremaining: 36m 14s\n",
      "97:\tlearn: 49.5930425\ttotal: 34m 29s\tremaining: 35m 53s\n",
      "98:\tlearn: 49.5693565\ttotal: 34m 49s\tremaining: 35m 31s\n",
      "99:\tlearn: 49.5330496\ttotal: 35m 10s\tremaining: 35m 10s\n",
      "100:\tlearn: 49.5061572\ttotal: 35m 31s\tremaining: 34m 49s\n",
      "101:\tlearn: 49.4797333\ttotal: 35m 52s\tremaining: 34m 27s\n",
      "102:\tlearn: 49.4421631\ttotal: 36m 13s\tremaining: 34m 6s\n",
      "103:\tlearn: 49.4152504\ttotal: 36m 34s\tremaining: 33m 45s\n",
      "104:\tlearn: 49.3863849\ttotal: 36m 55s\tremaining: 33m 24s\n",
      "105:\tlearn: 49.3592268\ttotal: 37m 15s\tremaining: 33m 2s\n",
      "106:\tlearn: 49.3327945\ttotal: 37m 36s\tremaining: 32m 41s\n",
      "107:\tlearn: 49.2937157\ttotal: 37m 57s\tremaining: 32m 19s\n",
      "108:\tlearn: 49.2677530\ttotal: 38m 18s\tremaining: 31m 58s\n",
      "109:\tlearn: 49.2375520\ttotal: 38m 39s\tremaining: 31m 37s\n",
      "110:\tlearn: 49.2098233\ttotal: 39m\tremaining: 31m 16s\n",
      "111:\tlearn: 49.1843397\ttotal: 39m 21s\tremaining: 30m 55s\n",
      "112:\tlearn: 49.1612139\ttotal: 39m 42s\tremaining: 30m 33s\n",
      "113:\tlearn: 49.1393149\ttotal: 40m 2s\tremaining: 30m 12s\n",
      "114:\tlearn: 49.1067440\ttotal: 40m 23s\tremaining: 29m 51s\n",
      "115:\tlearn: 49.0813312\ttotal: 40m 44s\tremaining: 29m 29s\n",
      "116:\tlearn: 49.0509045\ttotal: 41m 4s\tremaining: 29m 8s\n",
      "117:\tlearn: 49.0265467\ttotal: 41m 26s\tremaining: 28m 47s\n",
      "118:\tlearn: 49.0084880\ttotal: 41m 46s\tremaining: 28m 26s\n",
      "119:\tlearn: 48.9901486\ttotal: 42m 7s\tremaining: 28m 4s\n",
      "120:\tlearn: 48.9621323\ttotal: 42m 28s\tremaining: 27m 43s\n",
      "121:\tlearn: 48.9395943\ttotal: 42m 49s\tremaining: 27m 22s\n",
      "122:\tlearn: 48.9130961\ttotal: 43m 9s\tremaining: 27m 1s\n",
      "123:\tlearn: 48.8918031\ttotal: 43m 30s\tremaining: 26m 40s\n",
      "124:\tlearn: 48.8696836\ttotal: 43m 51s\tremaining: 26m 19s\n",
      "125:\tlearn: 48.8392421\ttotal: 44m 12s\tremaining: 25m 57s\n",
      "126:\tlearn: 48.8016843\ttotal: 44m 33s\tremaining: 25m 36s\n",
      "127:\tlearn: 48.7784425\ttotal: 44m 54s\tremaining: 25m 15s\n",
      "128:\tlearn: 48.7630496\ttotal: 45m 14s\tremaining: 24m 54s\n",
      "129:\tlearn: 48.7340092\ttotal: 45m 35s\tremaining: 24m 33s\n",
      "130:\tlearn: 48.7006275\ttotal: 45m 56s\tremaining: 24m 12s\n",
      "131:\tlearn: 48.6789057\ttotal: 46m 17s\tremaining: 23m 50s\n",
      "132:\tlearn: 48.6574752\ttotal: 46m 38s\tremaining: 23m 29s\n",
      "133:\tlearn: 48.6405682\ttotal: 46m 58s\tremaining: 23m 8s\n",
      "134:\tlearn: 48.6188475\ttotal: 47m 19s\tremaining: 22m 47s\n",
      "135:\tlearn: 48.5981689\ttotal: 47m 40s\tremaining: 22m 26s\n",
      "136:\tlearn: 48.5713604\ttotal: 48m\tremaining: 22m 4s\n",
      "137:\tlearn: 48.5530799\ttotal: 48m 21s\tremaining: 21m 43s\n",
      "138:\tlearn: 48.5333120\ttotal: 48m 42s\tremaining: 21m 22s\n",
      "139:\tlearn: 48.5107375\ttotal: 49m 3s\tremaining: 21m 1s\n",
      "140:\tlearn: 48.4913886\ttotal: 49m 24s\tremaining: 20m 40s\n",
      "141:\tlearn: 48.4671613\ttotal: 49m 44s\tremaining: 20m 19s\n",
      "142:\tlearn: 48.4414287\ttotal: 50m 5s\tremaining: 19m 58s\n",
      "143:\tlearn: 48.4195728\ttotal: 50m 26s\tremaining: 19m 37s\n",
      "144:\tlearn: 48.3940179\ttotal: 50m 47s\tremaining: 19m 16s\n",
      "145:\tlearn: 48.3715608\ttotal: 51m 8s\tremaining: 18m 54s\n",
      "146:\tlearn: 48.3498824\ttotal: 51m 29s\tremaining: 18m 33s\n",
      "147:\tlearn: 48.3352495\ttotal: 51m 49s\tremaining: 18m 12s\n",
      "148:\tlearn: 48.3175628\ttotal: 52m 10s\tremaining: 17m 51s\n",
      "149:\tlearn: 48.2960686\ttotal: 52m 31s\tremaining: 17m 30s\n",
      "150:\tlearn: 48.2776919\ttotal: 52m 52s\tremaining: 17m 9s\n",
      "151:\tlearn: 48.2589394\ttotal: 53m 12s\tremaining: 16m 48s\n",
      "152:\tlearn: 48.2436055\ttotal: 53m 33s\tremaining: 16m 27s\n",
      "153:\tlearn: 48.2229692\ttotal: 53m 53s\tremaining: 16m 5s\n",
      "154:\tlearn: 48.2061118\ttotal: 54m 14s\tremaining: 15m 44s\n",
      "155:\tlearn: 48.1926561\ttotal: 54m 34s\tremaining: 15m 23s\n",
      "156:\tlearn: 48.1811964\ttotal: 54m 54s\tremaining: 15m 2s\n",
      "157:\tlearn: 48.1616957\ttotal: 55m 15s\tremaining: 14m 41s\n",
      "158:\tlearn: 48.1449405\ttotal: 55m 36s\tremaining: 14m 20s\n",
      "159:\tlearn: 48.1282429\ttotal: 55m 57s\tremaining: 13m 59s\n",
      "160:\tlearn: 48.1107812\ttotal: 56m 17s\tremaining: 13m 38s\n",
      "161:\tlearn: 48.0949600\ttotal: 56m 38s\tremaining: 13m 17s\n",
      "162:\tlearn: 48.0815166\ttotal: 56m 58s\tremaining: 12m 56s\n",
      "163:\tlearn: 48.0598510\ttotal: 57m 19s\tremaining: 12m 35s\n",
      "164:\tlearn: 48.0369537\ttotal: 57m 40s\tremaining: 12m 14s\n",
      "165:\tlearn: 48.0169937\ttotal: 58m 1s\tremaining: 11m 53s\n",
      "166:\tlearn: 47.9986083\ttotal: 58m 22s\tremaining: 11m 32s\n",
      "167:\tlearn: 47.9840685\ttotal: 58m 42s\tremaining: 11m 11s\n",
      "168:\tlearn: 47.9714849\ttotal: 59m 3s\tremaining: 10m 49s\n",
      "169:\tlearn: 47.9586069\ttotal: 59m 23s\tremaining: 10m 28s\n",
      "170:\tlearn: 47.9367813\ttotal: 59m 44s\tremaining: 10m 7s\n",
      "171:\tlearn: 47.9223343\ttotal: 1h 5s\tremaining: 9m 46s\n",
      "172:\tlearn: 47.9029862\ttotal: 1h 26s\tremaining: 9m 25s\n",
      "173:\tlearn: 47.8845637\ttotal: 1h 47s\tremaining: 9m 5s\n",
      "174:\tlearn: 47.8692584\ttotal: 1h 1m 7s\tremaining: 8m 43s\n",
      "175:\tlearn: 47.8501940\ttotal: 1h 1m 28s\tremaining: 8m 23s\n",
      "176:\tlearn: 47.8364136\ttotal: 1h 1m 49s\tremaining: 8m 1s\n",
      "177:\tlearn: 47.8192085\ttotal: 1h 2m 10s\tremaining: 7m 41s\n",
      "178:\tlearn: 47.8059814\ttotal: 1h 2m 30s\tremaining: 7m 20s\n",
      "179:\tlearn: 47.7934779\ttotal: 1h 2m 50s\tremaining: 6m 58s\n",
      "180:\tlearn: 47.7774003\ttotal: 1h 3m 11s\tremaining: 6m 38s\n",
      "181:\tlearn: 47.7613809\ttotal: 1h 3m 32s\tremaining: 6m 17s\n",
      "182:\tlearn: 47.7449696\ttotal: 1h 3m 53s\tremaining: 5m 56s\n",
      "183:\tlearn: 47.7321610\ttotal: 1h 4m 14s\tremaining: 5m 35s\n",
      "184:\tlearn: 47.7238118\ttotal: 1h 4m 34s\tremaining: 5m 14s\n",
      "185:\tlearn: 47.7105618\ttotal: 1h 4m 54s\tremaining: 4m 53s\n",
      "186:\tlearn: 47.6979560\ttotal: 1h 5m 15s\tremaining: 4m 32s\n",
      "187:\tlearn: 47.6837394\ttotal: 1h 5m 36s\tremaining: 4m 11s\n",
      "188:\tlearn: 47.6682546\ttotal: 1h 5m 57s\tremaining: 3m 50s\n",
      "189:\tlearn: 47.6520798\ttotal: 1h 6m 17s\tremaining: 3m 29s\n",
      "190:\tlearn: 47.6373359\ttotal: 1h 6m 38s\tremaining: 3m 8s\n",
      "191:\tlearn: 47.6231300\ttotal: 1h 6m 58s\tremaining: 2m 47s\n",
      "192:\tlearn: 47.6058078\ttotal: 1h 7m 20s\tremaining: 2m 26s\n",
      "193:\tlearn: 47.5938218\ttotal: 1h 7m 40s\tremaining: 2m 5s\n",
      "194:\tlearn: 47.5777271\ttotal: 1h 8m\tremaining: 1m 44s\n",
      "195:\tlearn: 47.5609850\ttotal: 1h 8m 22s\tremaining: 1m 23s\n",
      "196:\tlearn: 47.5457832\ttotal: 1h 8m 42s\tremaining: 1m 2s\n",
      "197:\tlearn: 47.5238836\ttotal: 1h 9m 4s\tremaining: 41.9s\n",
      "198:\tlearn: 47.5076857\ttotal: 1h 9m 25s\tremaining: 20.9s\n",
      "199:\tlearn: 47.4978259\ttotal: 1h 9m 45s\tremaining: 0us\n",
      "4 0.6677329566892636\n"
     ]
    }
   ],
   "source": [
    "np.random.seed(42)\n",
    "all_row_indices = np.arange(train_inputs.shape[0])\n",
    "np.random.shuffle(all_row_indices)\n",
    "\n",
    "kf = KFold(n_splits=5, shuffle=True, random_state=42)\n",
    "\n",
    "index = 0\n",
    "score = []\n",
    "\n",
    "# model = Ridge(copy_X=False)\n",
    "d = train_inputs.shape[0]//n\n",
    "for i in range(0, n*d, d):\n",
    "    print(f'start [{i}:{i+d}]')\n",
    "    ind = all_row_indices[i:i+d]    \n",
    "    for idx_tr, idx_va in kf.split(ind):\n",
    "        X = train_inputs[ind]\n",
    "        Y = train_target[ind] #.todense()\n",
    "        Yva = train_targets[ind][idx_va]\n",
    "        Xtr, Xva = X[idx_tr], X[idx_va]\n",
    "        Ytr = Y[idx_tr]\n",
    "        del X, Y\n",
    "        gc.collect()\n",
    "        print('Train...')\n",
    "        model.fit(Xtr, Ytr)\n",
    "        del Xtr, Ytr\n",
    "        gc.collect()\n",
    "        s = correlation_score(Yva.todense(), model.predict(Xva)@pca2.components_)\n",
    "        score.append(s)\n",
    "        print(index, s)\n",
    "        del Xva, Yva\n",
    "        gc.collect()\n",
    "        pkl_filename = f\"model{index:02d}.pkl\"\n",
    "        index += 1\n",
    "        with open(pkl_filename, 'wb') as file:\n",
    "            pickle.dump(model, file)\n",
    "#         break\n",
    "#     break\n",
    "    gc.collect()"
   ]
  },
  {
   "cell_type": "code",
   "execution_count": 13,
   "id": "d6b0b240",
   "metadata": {
    "execution": {
     "iopub.execute_input": "2022-09-14T12:48:16.462205Z",
     "iopub.status.busy": "2022-09-14T12:48:16.461296Z",
     "iopub.status.idle": "2022-09-14T12:48:16.679610Z",
     "shell.execute_reply": "2022-09-14T12:48:16.678217Z"
    },
    "papermill": {
     "duration": 0.299631,
     "end_time": "2022-09-14T12:48:16.682463",
     "exception": false,
     "start_time": "2022-09-14T12:48:16.382832",
     "status": "completed"
    },
    "tags": []
   },
   "outputs": [
    {
     "data": {
      "text/plain": [
       "21"
      ]
     },
     "execution_count": 13,
     "metadata": {},
     "output_type": "execute_result"
    }
   ],
   "source": [
    "del train_target, train_inputs, train_targets\n",
    "gc.collect()"
   ]
  },
  {
   "cell_type": "markdown",
   "id": "c39d894d",
   "metadata": {
    "papermill": {
     "duration": 0.07674,
     "end_time": "2022-09-14T12:48:16.839287",
     "exception": false,
     "start_time": "2022-09-14T12:48:16.762547",
     "status": "completed"
    },
    "tags": []
   },
   "source": [
    "# Predicting"
   ]
  },
  {
   "cell_type": "code",
   "execution_count": 14,
   "id": "42cc0887",
   "metadata": {
    "execution": {
     "iopub.execute_input": "2022-09-14T12:48:17.001016Z",
     "iopub.status.busy": "2022-09-14T12:48:17.000494Z",
     "iopub.status.idle": "2022-09-14T12:50:14.178216Z",
     "shell.execute_reply": "2022-09-14T12:50:14.176898Z"
    },
    "papermill": {
     "duration": 117.335062,
     "end_time": "2022-09-14T12:50:14.257488",
     "exception": false,
     "start_time": "2022-09-14T12:48:16.922426",
     "status": "completed"
    },
    "tags": []
   },
   "outputs": [
    {
     "name": "stdout",
     "output_type": "stream",
     "text": [
      "CPU times: user 1min 35s, sys: 6.54 s, total: 1min 42s\n",
      "Wall time: 1min 57s\n"
     ]
    }
   ],
   "source": [
    "%%time\n",
    "multi_test_x = scipy.sparse.load_npz(\"../input/multimodal-single-cell-as-sparse-matrix/test_multi_inputs_values.sparse.npz\")\n",
    "multi_test_x = pca.transform(multi_test_x)"
   ]
  },
  {
   "cell_type": "code",
   "execution_count": 16,
   "id": "420073dc",
   "metadata": {
    "execution": {
     "iopub.execute_input": "2022-09-14T12:50:14.577147Z",
     "iopub.status.busy": "2022-09-14T12:50:14.576254Z",
     "iopub.status.idle": "2022-09-14T12:50:14.780345Z",
     "shell.execute_reply": "2022-09-14T12:50:14.779160Z"
    },
    "papermill": {
     "duration": 0.28538,
     "end_time": "2022-09-14T12:50:14.782808",
     "exception": false,
     "start_time": "2022-09-14T12:50:14.497428",
     "status": "completed"
    },
    "tags": []
   },
   "outputs": [
    {
     "data": {
      "text/plain": [
       "103"
      ]
     },
     "execution_count": 16,
     "metadata": {},
     "output_type": "execute_result"
    }
   ],
   "source": [
    "test_len = multi_test_x.shape[0]\n",
    "d = test_len//n\n",
    "x = []\n",
    "for i in range(n):\n",
    "    x.append(multi_test_x[i*d:i*d+d])\n",
    "del multi_test_x\n",
    "gc.collect()"
   ]
  },
  {
   "cell_type": "code",
   "execution_count": 17,
   "id": "b840b218",
   "metadata": {
    "execution": {
     "iopub.execute_input": "2022-09-14T12:50:14.939542Z",
     "iopub.status.busy": "2022-09-14T12:50:14.938992Z",
     "iopub.status.idle": "2022-09-14T12:50:14.947270Z",
     "shell.execute_reply": "2022-09-14T12:50:14.946343Z"
    },
    "papermill": {
     "duration": 0.089796,
     "end_time": "2022-09-14T12:50:14.949792",
     "exception": false,
     "start_time": "2022-09-14T12:50:14.859996",
     "status": "completed"
    },
    "tags": []
   },
   "outputs": [
    {
     "data": {
      "text/plain": [
       "5"
      ]
     },
     "execution_count": 17,
     "metadata": {},
     "output_type": "execute_result"
    }
   ],
   "source": [
    "index"
   ]
  },
  {
   "cell_type": "code",
   "execution_count": 18,
   "id": "3cf4168d",
   "metadata": {
    "execution": {
     "iopub.execute_input": "2022-09-14T12:50:15.106789Z",
     "iopub.status.busy": "2022-09-14T12:50:15.105893Z",
     "iopub.status.idle": "2022-09-14T12:52:29.947665Z",
     "shell.execute_reply": "2022-09-14T12:52:29.946373Z"
    },
    "papermill": {
     "duration": 135.002062,
     "end_time": "2022-09-14T12:52:30.029362",
     "exception": false,
     "start_time": "2022-09-14T12:50:15.027300",
     "status": "completed"
    },
    "tags": []
   },
   "outputs": [
    {
     "name": "stdout",
     "output_type": "stream",
     "text": [
      "0 1 2 3 4 \n"
     ]
    },
    {
     "data": {
      "text/plain": [
       "0"
      ]
     },
     "execution_count": 18,
     "metadata": {},
     "output_type": "execute_result"
    }
   ],
   "source": [
    "preds = np.zeros((test_len, 23418), dtype='float16')\n",
    "for i,xx in enumerate(x):\n",
    "    for ind in range(index):\n",
    "        print(ind, end=' ')\n",
    "        with open(f'model{ind:02}.pkl', 'rb') as file:\n",
    "            model = pickle.load(file)\n",
    "        preds[i*d:i*d+d,:] += (model.predict(xx)@pca2.components_)/index\n",
    "        gc.collect()\n",
    "    print('')\n",
    "    del xx\n",
    "gc.collect()"
   ]
  },
  {
   "cell_type": "code",
   "execution_count": 19,
   "id": "727c786d",
   "metadata": {
    "execution": {
     "iopub.execute_input": "2022-09-14T12:52:30.201614Z",
     "iopub.status.busy": "2022-09-14T12:52:30.200765Z",
     "iopub.status.idle": "2022-09-14T12:52:30.387012Z",
     "shell.execute_reply": "2022-09-14T12:52:30.385753Z"
    },
    "papermill": {
     "duration": 0.269828,
     "end_time": "2022-09-14T12:52:30.389959",
     "exception": false,
     "start_time": "2022-09-14T12:52:30.120131",
     "status": "completed"
    },
    "tags": []
   },
   "outputs": [
    {
     "data": {
      "text/plain": [
       "21"
      ]
     },
     "execution_count": 19,
     "metadata": {},
     "output_type": "execute_result"
    }
   ],
   "source": [
    "del x\n",
    "gc.collect()"
   ]
  },
  {
   "cell_type": "code",
   "execution_count": 20,
   "id": "77f2d695",
   "metadata": {
    "execution": {
     "iopub.execute_input": "2022-09-14T12:52:30.547435Z",
     "iopub.status.busy": "2022-09-14T12:52:30.546276Z",
     "iopub.status.idle": "2022-09-14T12:52:34.337359Z",
     "shell.execute_reply": "2022-09-14T12:52:34.335864Z"
    },
    "papermill": {
     "duration": 3.873306,
     "end_time": "2022-09-14T12:52:34.340592",
     "exception": false,
     "start_time": "2022-09-14T12:52:30.467286",
     "status": "completed"
    },
    "tags": []
   },
   "outputs": [],
   "source": [
    "np.save('preds.npy', preds)"
   ]
  },
  {
   "cell_type": "markdown",
   "id": "a1d7aae0",
   "metadata": {
    "papermill": {
     "duration": 0.36356,
     "end_time": "2022-09-14T12:52:34.825251",
     "exception": false,
     "start_time": "2022-09-14T12:52:34.461691",
     "status": "completed"
    },
    "tags": []
   },
   "source": [
    "# Creating submission\n",
    "\n",
    "We load the cells that will have to appear in submission."
   ]
  },
  {
   "cell_type": "code",
   "execution_count": 21,
   "id": "1f745aa3",
   "metadata": {
    "execution": {
     "iopub.execute_input": "2022-09-14T12:52:35.061165Z",
     "iopub.status.busy": "2022-09-14T12:52:35.060555Z",
     "iopub.status.idle": "2022-09-14T12:53:12.476813Z",
     "shell.execute_reply": "2022-09-14T12:53:12.475113Z"
    },
    "papermill": {
     "duration": 37.631198,
     "end_time": "2022-09-14T12:53:12.567783",
     "exception": false,
     "start_time": "2022-09-14T12:52:34.936585",
     "status": "completed"
    },
    "tags": []
   },
   "outputs": [
    {
     "name": "stdout",
     "output_type": "stream",
     "text": [
      "CPU times: user 32.3 s, sys: 10.9 s, total: 43.2 s\n",
      "Wall time: 37.4 s\n"
     ]
    }
   ],
   "source": [
    "%%time\n",
    "# Read the table of rows and columns required for submission\n",
    "eval_ids = pd.read_parquet(\"../input/multimodal-single-cell-as-sparse-matrix/evaluation.parquet\")\n",
    "# Convert the string columns to more efficient categorical types\n",
    "eval_ids.cell_id = eval_ids.cell_id.astype(pd.CategoricalDtype())\n",
    "eval_ids.gene_id = eval_ids.gene_id.astype(pd.CategoricalDtype())"
   ]
  },
  {
   "cell_type": "code",
   "execution_count": 22,
   "id": "c9e23816",
   "metadata": {
    "execution": {
     "iopub.execute_input": "2022-09-14T12:53:12.740396Z",
     "iopub.status.busy": "2022-09-14T12:53:12.739411Z",
     "iopub.status.idle": "2022-09-14T12:53:44.946015Z",
     "shell.execute_reply": "2022-09-14T12:53:44.944625Z"
    },
    "papermill": {
     "duration": 32.374058,
     "end_time": "2022-09-14T12:53:45.026030",
     "exception": false,
     "start_time": "2022-09-14T12:53:12.651972",
     "status": "completed"
    },
    "tags": []
   },
   "outputs": [
    {
     "data": {
      "text/plain": [
       "row_id    cell_id       gene_id        \n",
       "0         c2150f55becb  CD86              NaN\n",
       "1         c2150f55becb  CD274             NaN\n",
       "2         c2150f55becb  CD270             NaN\n",
       "3         c2150f55becb  CD155             NaN\n",
       "4         c2150f55becb  CD112             NaN\n",
       "                                           ..\n",
       "65744175  2c53aa67933d  ENSG00000134419   NaN\n",
       "65744176  2c53aa67933d  ENSG00000186862   NaN\n",
       "65744177  2c53aa67933d  ENSG00000170959   NaN\n",
       "65744178  2c53aa67933d  ENSG00000107874   NaN\n",
       "65744179  2c53aa67933d  ENSG00000166012   NaN\n",
       "Name: target, Length: 65744180, dtype: float32"
      ]
     },
     "execution_count": 22,
     "metadata": {},
     "output_type": "execute_result"
    }
   ],
   "source": [
    "# Prepare an empty series which will be filled with predictions\n",
    "submission = pd.Series(name='target',\n",
    "                       index=pd.MultiIndex.from_frame(eval_ids), \n",
    "                       dtype=np.float32)\n",
    "submission"
   ]
  },
  {
   "cell_type": "markdown",
   "id": "91dfb733",
   "metadata": {
    "papermill": {
     "duration": 0.078645,
     "end_time": "2022-09-14T12:53:45.183519",
     "exception": false,
     "start_time": "2022-09-14T12:53:45.104874",
     "status": "completed"
    },
    "tags": []
   },
   "source": [
    "We load the `index`  and `columns` of the original dataframe, as we need them to make the submission."
   ]
  },
  {
   "cell_type": "code",
   "execution_count": 23,
   "id": "feea2b42",
   "metadata": {
    "execution": {
     "iopub.execute_input": "2022-09-14T12:53:45.341465Z",
     "iopub.status.busy": "2022-09-14T12:53:45.340985Z",
     "iopub.status.idle": "2022-09-14T12:53:45.450980Z",
     "shell.execute_reply": "2022-09-14T12:53:45.449802Z"
    },
    "papermill": {
     "duration": 0.191948,
     "end_time": "2022-09-14T12:53:45.453792",
     "exception": false,
     "start_time": "2022-09-14T12:53:45.261844",
     "status": "completed"
    },
    "tags": []
   },
   "outputs": [
    {
     "name": "stdout",
     "output_type": "stream",
     "text": [
      "CPU times: user 37.6 ms, sys: 7.95 ms, total: 45.5 ms\n",
      "Wall time: 101 ms\n"
     ]
    }
   ],
   "source": [
    "%%time\n",
    "y_columns = np.load(\"../input/multimodal-single-cell-as-sparse-matrix/train_multi_targets_idxcol.npz\",\n",
    "                   allow_pickle=True)[\"columns\"]\n",
    "\n",
    "test_index = np.load(\"../input/multimodal-single-cell-as-sparse-matrix/test_multi_inputs_idxcol.npz\",\n",
    "                    allow_pickle=True)[\"index\"]"
   ]
  },
  {
   "cell_type": "markdown",
   "id": "e9aca7fb",
   "metadata": {
    "papermill": {
     "duration": 0.077341,
     "end_time": "2022-09-14T12:53:45.609179",
     "exception": false,
     "start_time": "2022-09-14T12:53:45.531838",
     "status": "completed"
    },
    "tags": []
   },
   "source": [
    "We assign the predicted values to the correct row in the submission file."
   ]
  },
  {
   "cell_type": "code",
   "execution_count": 24,
   "id": "14e1b787",
   "metadata": {
    "execution": {
     "iopub.execute_input": "2022-09-14T12:53:45.770449Z",
     "iopub.status.busy": "2022-09-14T12:53:45.769300Z",
     "iopub.status.idle": "2022-09-14T12:53:45.802678Z",
     "shell.execute_reply": "2022-09-14T12:53:45.801490Z"
    },
    "papermill": {
     "duration": 0.118845,
     "end_time": "2022-09-14T12:53:45.805694",
     "exception": false,
     "start_time": "2022-09-14T12:53:45.686849",
     "status": "completed"
    },
    "tags": []
   },
   "outputs": [],
   "source": [
    "cell_dict = dict((k,v) for v,k in enumerate(test_index)) \n",
    "assert len(cell_dict)  == len(test_index)\n",
    "\n",
    "gene_dict = dict((k,v) for v,k in enumerate(y_columns))\n",
    "assert len(gene_dict) == len(y_columns)"
   ]
  },
  {
   "cell_type": "code",
   "execution_count": 25,
   "id": "fa5775ba",
   "metadata": {
    "execution": {
     "iopub.execute_input": "2022-09-14T12:53:45.961289Z",
     "iopub.status.busy": "2022-09-14T12:53:45.960759Z",
     "iopub.status.idle": "2022-09-14T12:53:51.509296Z",
     "shell.execute_reply": "2022-09-14T12:53:51.507769Z"
    },
    "papermill": {
     "duration": 5.630603,
     "end_time": "2022-09-14T12:53:51.512582",
     "exception": false,
     "start_time": "2022-09-14T12:53:45.881979",
     "status": "completed"
    },
    "tags": []
   },
   "outputs": [],
   "source": [
    "eval_ids_cell_num = eval_ids.cell_id.apply(lambda x:cell_dict.get(x, -1))\n",
    "eval_ids_gene_num = eval_ids.gene_id.apply(lambda x:gene_dict.get(x, -1))\n",
    "\n",
    "valid_multi_rows = (eval_ids_gene_num !=-1) & (eval_ids_cell_num!=-1)"
   ]
  },
  {
   "cell_type": "code",
   "execution_count": 26,
   "id": "4bea83ec",
   "metadata": {
    "execution": {
     "iopub.execute_input": "2022-09-14T12:53:51.668755Z",
     "iopub.status.busy": "2022-09-14T12:53:51.668262Z",
     "iopub.status.idle": "2022-09-14T12:53:57.158453Z",
     "shell.execute_reply": "2022-09-14T12:53:57.156984Z"
    },
    "papermill": {
     "duration": 5.572678,
     "end_time": "2022-09-14T12:53:57.162081",
     "exception": false,
     "start_time": "2022-09-14T12:53:51.589403",
     "status": "completed"
    },
    "tags": []
   },
   "outputs": [],
   "source": [
    "submission.iloc[valid_multi_rows] = preds[eval_ids_cell_num[valid_multi_rows].to_numpy(),\n",
    "eval_ids_gene_num[valid_multi_rows].to_numpy()]"
   ]
  },
  {
   "cell_type": "code",
   "execution_count": 27,
   "id": "c86ff01a",
   "metadata": {
    "execution": {
     "iopub.execute_input": "2022-09-14T12:53:57.321560Z",
     "iopub.status.busy": "2022-09-14T12:53:57.320685Z",
     "iopub.status.idle": "2022-09-14T12:53:57.543556Z",
     "shell.execute_reply": "2022-09-14T12:53:57.542287Z"
    },
    "papermill": {
     "duration": 0.304955,
     "end_time": "2022-09-14T12:53:57.546264",
     "exception": false,
     "start_time": "2022-09-14T12:53:57.241309",
     "status": "completed"
    },
    "tags": []
   },
   "outputs": [
    {
     "data": {
      "text/plain": [
       "134"
      ]
     },
     "execution_count": 27,
     "metadata": {},
     "output_type": "execute_result"
    }
   ],
   "source": [
    "del eval_ids_cell_num, eval_ids_gene_num, valid_multi_rows, eval_ids, test_index, y_columns\n",
    "gc.collect()"
   ]
  },
  {
   "cell_type": "code",
   "execution_count": 28,
   "id": "16c2104e",
   "metadata": {
    "execution": {
     "iopub.execute_input": "2022-09-14T12:53:57.704851Z",
     "iopub.status.busy": "2022-09-14T12:53:57.703306Z",
     "iopub.status.idle": "2022-09-14T12:53:57.715892Z",
     "shell.execute_reply": "2022-09-14T12:53:57.714870Z"
    },
    "papermill": {
     "duration": 0.094514,
     "end_time": "2022-09-14T12:53:57.718253",
     "exception": false,
     "start_time": "2022-09-14T12:53:57.623739",
     "status": "completed"
    },
    "tags": []
   },
   "outputs": [
    {
     "data": {
      "text/plain": [
       "row_id    cell_id       gene_id        \n",
       "0         c2150f55becb  CD86                    NaN\n",
       "1         c2150f55becb  CD274                   NaN\n",
       "2         c2150f55becb  CD270                   NaN\n",
       "3         c2150f55becb  CD155                   NaN\n",
       "4         c2150f55becb  CD112                   NaN\n",
       "                                             ...   \n",
       "65744175  2c53aa67933d  ENSG00000134419    6.195312\n",
       "65744176  2c53aa67933d  ENSG00000186862    0.032776\n",
       "65744177  2c53aa67933d  ENSG00000170959    0.044586\n",
       "65744178  2c53aa67933d  ENSG00000107874    1.187500\n",
       "65744179  2c53aa67933d  ENSG00000166012    5.132812\n",
       "Name: target, Length: 65744180, dtype: float32"
      ]
     },
     "execution_count": 28,
     "metadata": {},
     "output_type": "execute_result"
    }
   ],
   "source": [
    "submission"
   ]
  },
  {
   "cell_type": "markdown",
   "id": "da37afca",
   "metadata": {
    "papermill": {
     "duration": 0.085262,
     "end_time": "2022-09-14T12:53:57.888898",
     "exception": false,
     "start_time": "2022-09-14T12:53:57.803636",
     "status": "completed"
    },
    "tags": []
   },
   "source": [
    "# Merging with CITEseq predictions"
   ]
  },
  {
   "cell_type": "code",
   "execution_count": 29,
   "id": "ba6209cb",
   "metadata": {
    "execution": {
     "iopub.execute_input": "2022-09-14T12:53:58.052177Z",
     "iopub.status.busy": "2022-09-14T12:53:58.051679Z",
     "iopub.status.idle": "2022-09-14T12:53:58.208101Z",
     "shell.execute_reply": "2022-09-14T12:53:58.206302Z"
    },
    "papermill": {
     "duration": 0.24166,
     "end_time": "2022-09-14T12:53:58.210780",
     "exception": false,
     "start_time": "2022-09-14T12:53:57.969120",
     "status": "completed"
    },
    "tags": []
   },
   "outputs": [],
   "source": [
    "submission.reset_index(drop=True, inplace=True)\n",
    "submission.index.name = 'row_id'"
   ]
  },
  {
   "cell_type": "code",
   "execution_count": 30,
   "id": "6c327f55",
   "metadata": {
    "execution": {
     "iopub.execute_input": "2022-09-14T12:53:58.371191Z",
     "iopub.status.busy": "2022-09-14T12:53:58.370698Z",
     "iopub.status.idle": "2022-09-14T12:54:25.386260Z",
     "shell.execute_reply": "2022-09-14T12:54:25.384877Z"
    },
    "papermill": {
     "duration": 27.098553,
     "end_time": "2022-09-14T12:54:25.389839",
     "exception": false,
     "start_time": "2022-09-14T12:53:58.291286",
     "status": "completed"
    },
    "tags": []
   },
   "outputs": [],
   "source": [
    "cite_submission = pd.read_csv(\"../input/msci-citeseq-keras-quickstart/submission.csv\")\n",
    "cite_submission = cite_submission.set_index(\"row_id\")\n",
    "cite_submission = cite_submission[\"target\"]"
   ]
  },
  {
   "cell_type": "code",
   "execution_count": 31,
   "id": "4ff86b80",
   "metadata": {
    "execution": {
     "iopub.execute_input": "2022-09-14T12:54:25.548153Z",
     "iopub.status.busy": "2022-09-14T12:54:25.547155Z",
     "iopub.status.idle": "2022-09-14T12:54:28.255442Z",
     "shell.execute_reply": "2022-09-14T12:54:28.254086Z"
    },
    "papermill": {
     "duration": 2.790311,
     "end_time": "2022-09-14T12:54:28.258750",
     "exception": false,
     "start_time": "2022-09-14T12:54:25.468439",
     "status": "completed"
    },
    "tags": []
   },
   "outputs": [],
   "source": [
    "submission[submission.isnull()] = cite_submission[submission.isnull()]"
   ]
  },
  {
   "cell_type": "code",
   "execution_count": 32,
   "id": "a7a85d0a",
   "metadata": {
    "execution": {
     "iopub.execute_input": "2022-09-14T12:54:28.420265Z",
     "iopub.status.busy": "2022-09-14T12:54:28.419027Z",
     "iopub.status.idle": "2022-09-14T12:54:28.428223Z",
     "shell.execute_reply": "2022-09-14T12:54:28.426901Z"
    },
    "papermill": {
     "duration": 0.09219,
     "end_time": "2022-09-14T12:54:28.430572",
     "exception": false,
     "start_time": "2022-09-14T12:54:28.338382",
     "status": "completed"
    },
    "tags": []
   },
   "outputs": [
    {
     "data": {
      "text/plain": [
       "row_id\n",
       "0           0.094605\n",
       "1          -0.162362\n",
       "2          -0.405332\n",
       "3          -0.302582\n",
       "4           1.114355\n",
       "              ...   \n",
       "65744175    6.195312\n",
       "65744176    0.032776\n",
       "65744177    0.044586\n",
       "65744178    1.187500\n",
       "65744179    5.132812\n",
       "Name: target, Length: 65744180, dtype: float32"
      ]
     },
     "execution_count": 32,
     "metadata": {},
     "output_type": "execute_result"
    }
   ],
   "source": [
    "submission"
   ]
  },
  {
   "cell_type": "code",
   "execution_count": 34,
   "id": "7de03024",
   "metadata": {
    "execution": {
     "iopub.execute_input": "2022-09-14T12:54:28.756955Z",
     "iopub.status.busy": "2022-09-14T12:54:28.755950Z",
     "iopub.status.idle": "2022-09-14T12:54:28.839652Z",
     "shell.execute_reply": "2022-09-14T12:54:28.838394Z"
    },
    "papermill": {
     "duration": 0.166614,
     "end_time": "2022-09-14T12:54:28.842399",
     "exception": false,
     "start_time": "2022-09-14T12:54:28.675785",
     "status": "completed"
    },
    "tags": []
   },
   "outputs": [
    {
     "data": {
      "text/plain": [
       "False"
      ]
     },
     "execution_count": 34,
     "metadata": {},
     "output_type": "execute_result"
    }
   ],
   "source": [
    "submission.isnull().any()"
   ]
  },
  {
   "cell_type": "code",
   "execution_count": 35,
   "id": "2812e841",
   "metadata": {
    "execution": {
     "iopub.execute_input": "2022-09-14T12:54:29.001681Z",
     "iopub.status.busy": "2022-09-14T12:54:29.001191Z",
     "iopub.status.idle": "2022-09-14T12:56:48.290673Z",
     "shell.execute_reply": "2022-09-14T12:56:48.289133Z"
    },
    "papermill": {
     "duration": 139.373387,
     "end_time": "2022-09-14T12:56:48.294365",
     "exception": false,
     "start_time": "2022-09-14T12:54:28.920978",
     "status": "completed"
    },
    "tags": []
   },
   "outputs": [],
   "source": [
    "submission.to_csv(\"submission.csv\")"
   ]
  },
  {
   "cell_type": "code",
   "execution_count": 36,
   "id": "42de96e4",
   "metadata": {
    "execution": {
     "iopub.execute_input": "2022-09-14T12:56:48.456331Z",
     "iopub.status.busy": "2022-09-14T12:56:48.455788Z",
     "iopub.status.idle": "2022-09-14T12:56:49.812240Z",
     "shell.execute_reply": "2022-09-14T12:56:49.810868Z"
    },
    "papermill": {
     "duration": 1.440449,
     "end_time": "2022-09-14T12:56:49.815424",
     "exception": false,
     "start_time": "2022-09-14T12:56:48.374975",
     "status": "completed"
    },
    "tags": []
   },
   "outputs": [
    {
     "name": "stdout",
     "output_type": "stream",
     "text": [
      "row_id,target\r\n",
      "0,0.09460453\r\n",
      "1,-0.16236241\r\n",
      "2,-0.40533188\r\n",
      "3,-0.30258211\r\n",
      "4,1.1143554\r\n",
      "5,2.5725958\r\n",
      "6,0.24209185\r\n",
      "7,-0.799001\r\n",
      "8,-0.676689\r\n"
     ]
    }
   ],
   "source": [
    "!head submission.csv"
   ]
  }
 ],
 "metadata": {
  "kernelspec": {
   "display_name": "Python 3",
   "language": "python",
   "name": "python3"
  },
  "language_info": {
   "codemirror_mode": {
    "name": "ipython",
    "version": 3
   },
   "file_extension": ".py",
   "mimetype": "text/x-python",
   "name": "python",
   "nbconvert_exporter": "python",
   "pygments_lexer": "ipython3",
   "version": "3.9.12"
  },
  "papermill": {
   "default_parameters": {},
   "duration": 22967.319479,
   "end_time": "2022-09-14T12:56:53.396256",
   "environment_variables": {},
   "exception": null,
   "input_path": "__notebook__.ipynb",
   "output_path": "__notebook__.ipynb",
   "parameters": {},
   "start_time": "2022-09-14T06:34:06.076777",
   "version": "2.3.4"
  }
 },
 "nbformat": 4,
 "nbformat_minor": 5
}
